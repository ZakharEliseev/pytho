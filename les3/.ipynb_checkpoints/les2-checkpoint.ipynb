{
 "cells": [
  {
   "cell_type": "code",
   "execution_count": 1,
   "id": "d09042b4",
   "metadata": {},
   "outputs": [],
   "source": [
    "evens = (2, 4, 6)"
   ]
  },
  {
   "cell_type": "code",
   "execution_count": 2,
   "id": "54267c15",
   "metadata": {},
   "outputs": [],
   "source": [
    "more_evens = evens + (8 , 10)"
   ]
  },
  {
   "cell_type": "code",
   "execution_count": 3,
   "id": "43a0ef16",
   "metadata": {},
   "outputs": [
    {
     "name": "stdout",
     "output_type": "stream",
     "text": [
      "(2, 4, 6)\n"
     ]
    }
   ],
   "source": [
    "print(evens)"
   ]
  },
  {
   "cell_type": "code",
   "execution_count": 4,
   "id": "e67af3fc",
   "metadata": {},
   "outputs": [
    {
     "name": "stdout",
     "output_type": "stream",
     "text": [
      "(2, 4, 6, 8, 10)\n"
     ]
    }
   ],
   "source": [
    "print(more_evens)"
   ]
  },
  {
   "cell_type": "code",
   "execution_count": 5,
   "id": "a7409e80",
   "metadata": {},
   "outputs": [
    {
     "data": {
      "text/plain": [
       "[123, 123.123, None, [], []]"
      ]
     },
     "execution_count": 5,
     "metadata": {},
     "output_type": "execute_result"
    }
   ],
   "source": [
    "list_of_strings = [123, 123.123, None, [], []]\n",
    "list_of_strings"
   ]
  },
  {
   "cell_type": "code",
   "execution_count": 6,
   "id": "fd4349b7",
   "metadata": {},
   "outputs": [
    {
     "name": "stdout",
     "output_type": "stream",
     "text": [
      "['hello', 'word', 'python', 'code', '123']\n"
     ]
    }
   ],
   "source": [
    "list_of_strings = ['hello', 'word', 'python', 'code', '123']\n",
    "print(list_of_strings)"
   ]
  },
  {
   "cell_type": "code",
   "execution_count": 7,
   "id": "5baf1785",
   "metadata": {},
   "outputs": [
    {
     "data": {
      "text/plain": [
       "'hello'"
      ]
     },
     "execution_count": 7,
     "metadata": {},
     "output_type": "execute_result"
    }
   ],
   "source": [
    "list_of_strings[0]"
   ]
  },
  {
   "cell_type": "code",
   "execution_count": 8,
   "id": "5890956c",
   "metadata": {},
   "outputs": [
    {
     "data": {
      "text/plain": [
       "'word'"
      ]
     },
     "execution_count": 8,
     "metadata": {},
     "output_type": "execute_result"
    }
   ],
   "source": [
    "list_of_strings[1]"
   ]
  },
  {
   "cell_type": "code",
   "execution_count": 9,
   "id": "50822a2c",
   "metadata": {},
   "outputs": [
    {
     "name": "stdout",
     "output_type": "stream",
     "text": [
      "hello\n",
      "word\n",
      "python\n",
      "code\n",
      "123\n"
     ]
    }
   ],
   "source": [
    "for elem in list_of_strings:\n",
    "    print(elem)"
   ]
  },
  {
   "cell_type": "code",
   "execution_count": 10,
   "id": "c568b563",
   "metadata": {},
   "outputs": [],
   "source": [
    "evens = (2, 4 ,6)"
   ]
  },
  {
   "cell_type": "code",
   "execution_count": 11,
   "id": "e161afc0",
   "metadata": {},
   "outputs": [
    {
     "name": "stdout",
     "output_type": "stream",
     "text": [
      "2\n",
      "4\n",
      "6\n"
     ]
    }
   ],
   "source": [
    "for even in evens:\n",
    "    print(even)"
   ]
  },
  {
   "cell_type": "code",
   "execution_count": 12,
   "id": "993d534c",
   "metadata": {},
   "outputs": [
    {
     "name": "stdout",
     "output_type": "stream",
     "text": [
      "2 ** 2 = 4\n",
      "4 ** 2 = 16\n",
      "6 ** 2 = 36\n"
     ]
    }
   ],
   "source": [
    "for even in evens:\n",
    "    print(even, '**', 2, '=', even ** 2)"
   ]
  },
  {
   "cell_type": "code",
   "execution_count": 13,
   "id": "4c5a8c1f",
   "metadata": {},
   "outputs": [
    {
     "name": "stdout",
     "output_type": "stream",
     "text": [
      "2\n",
      "4\n",
      "6\n"
     ]
    }
   ],
   "source": [
    "for number in evens:\n",
    "    if number > 10:\n",
    "        break\n",
    "    print(number)"
   ]
  },
  {
   "cell_type": "code",
   "execution_count": 14,
   "id": "7b0f4732",
   "metadata": {},
   "outputs": [
    {
     "name": "stdout",
     "output_type": "stream",
     "text": [
      "(2, 4, 6, 9, 10, 12)\n"
     ]
    }
   ],
   "source": [
    "evens = evens + (9, 10 ,12)\n",
    "print(evens)"
   ]
  },
  {
   "cell_type": "code",
   "execution_count": 15,
   "id": "36ecb432",
   "metadata": {},
   "outputs": [
    {
     "name": "stdout",
     "output_type": "stream",
     "text": [
      "2\n",
      "4\n",
      "6\n",
      "9\n",
      "10\n"
     ]
    }
   ],
   "source": [
    "for number in evens:\n",
    "    if number > 10:\n",
    "        break\n",
    "    print(number)"
   ]
  },
  {
   "cell_type": "code",
   "execution_count": 16,
   "id": "f2676410",
   "metadata": {},
   "outputs": [
    {
     "name": "stdout",
     "output_type": "stream",
     "text": [
      "(2, 4, 6, 9, 10, 12, 13, 15)\n"
     ]
    }
   ],
   "source": [
    "evens = evens + (13, 15)\n",
    "print(evens)"
   ]
  },
  {
   "cell_type": "code",
   "execution_count": 17,
   "id": "8bf216d6",
   "metadata": {},
   "outputs": [
    {
     "name": "stdout",
     "output_type": "stream",
     "text": [
      "2\n",
      "4\n",
      "6\n",
      "9\n",
      "10\n"
     ]
    }
   ],
   "source": [
    "for number in evens:\n",
    "    if number > 10:\n",
    "        break\n",
    "    print(number)"
   ]
  },
  {
   "cell_type": "code",
   "execution_count": 18,
   "id": "0a4d95e3",
   "metadata": {},
   "outputs": [
    {
     "name": "stdout",
     "output_type": "stream",
     "text": [
      "2\n",
      "4\n",
      "6\n",
      "9\n",
      "10\n",
      "brak on 12\n"
     ]
    }
   ],
   "source": [
    "for number in evens:\n",
    "    if number > 10:\n",
    "        print('brak on' , number)\n",
    "        break\n",
    "    print(number)"
   ]
  },
  {
   "cell_type": "code",
   "execution_count": 19,
   "id": "75afc4eb",
   "metadata": {},
   "outputs": [
    {
     "data": {
      "text/plain": [
       "8"
      ]
     },
     "execution_count": 19,
     "metadata": {},
     "output_type": "execute_result"
    }
   ],
   "source": [
    "len(evens)"
   ]
  },
  {
   "cell_type": "code",
   "execution_count": 20,
   "id": "cd3577ef",
   "metadata": {},
   "outputs": [
    {
     "data": {
      "text/plain": [
       "5"
      ]
     },
     "execution_count": 20,
     "metadata": {},
     "output_type": "execute_result"
    }
   ],
   "source": [
    "len(list_of_strings)"
   ]
  },
  {
   "cell_type": "code",
   "execution_count": 21,
   "id": "e045897c",
   "metadata": {},
   "outputs": [],
   "source": [
    "def hello():\n",
    "    print('Hello there')"
   ]
  },
  {
   "cell_type": "code",
   "execution_count": 22,
   "id": "73ed255c",
   "metadata": {},
   "outputs": [
    {
     "data": {
      "text/plain": [
       "<function __main__.hello()>"
      ]
     },
     "execution_count": 22,
     "metadata": {},
     "output_type": "execute_result"
    }
   ],
   "source": [
    "hello"
   ]
  },
  {
   "cell_type": "code",
   "execution_count": 23,
   "id": "f02c6d0c",
   "metadata": {},
   "outputs": [
    {
     "name": "stdout",
     "output_type": "stream",
     "text": [
      "Hello there\n"
     ]
    }
   ],
   "source": [
    "hello()"
   ]
  },
  {
   "cell_type": "code",
   "execution_count": 24,
   "id": "7a40b012",
   "metadata": {},
   "outputs": [],
   "source": [
    "def square(number):\n",
    "    return number ** 2"
   ]
  },
  {
   "cell_type": "code",
   "execution_count": 25,
   "id": "85d32a37",
   "metadata": {},
   "outputs": [
    {
     "data": {
      "text/plain": [
       "9"
      ]
     },
     "execution_count": 25,
     "metadata": {},
     "output_type": "execute_result"
    }
   ],
   "source": [
    "square(3)"
   ]
  },
  {
   "cell_type": "code",
   "execution_count": 26,
   "id": "50323eb4",
   "metadata": {},
   "outputs": [
    {
     "data": {
      "text/plain": [
       "<function __main__.square(number)>"
      ]
     },
     "execution_count": 26,
     "metadata": {},
     "output_type": "execute_result"
    }
   ],
   "source": [
    "square"
   ]
  },
  {
   "cell_type": "code",
   "execution_count": 27,
   "id": "59fe72b5",
   "metadata": {},
   "outputs": [
    {
     "name": "stdout",
     "output_type": "stream",
     "text": [
      "Hello there\n",
      "None\n"
     ]
    }
   ],
   "source": [
    "print(hello())"
   ]
  },
  {
   "cell_type": "code",
   "execution_count": 28,
   "id": "7f472c11",
   "metadata": {},
   "outputs": [
    {
     "name": "stdout",
     "output_type": "stream",
     "text": [
      "16\n"
     ]
    }
   ],
   "source": [
    "print(square(4))"
   ]
  },
  {
   "cell_type": "code",
   "execution_count": 29,
   "id": "4c33a9d0",
   "metadata": {},
   "outputs": [],
   "source": [
    "def power(num, e):\n",
    "    return num ** e"
   ]
  },
  {
   "cell_type": "code",
   "execution_count": 30,
   "id": "768810f6",
   "metadata": {},
   "outputs": [
    {
     "data": {
      "text/plain": [
       "8"
      ]
     },
     "execution_count": 30,
     "metadata": {},
     "output_type": "execute_result"
    }
   ],
   "source": [
    "power(2, 3)"
   ]
  },
  {
   "cell_type": "code",
   "execution_count": 31,
   "id": "081decbb",
   "metadata": {},
   "outputs": [
    {
     "name": "stdout",
     "output_type": "stream",
     "text": [
      "8\n"
     ]
    }
   ],
   "source": [
    "print(power(2, 3))"
   ]
  },
  {
   "cell_type": "code",
   "execution_count": 32,
   "id": "064fd841",
   "metadata": {},
   "outputs": [],
   "source": [
    "x = 2\n",
    "def cube(x):\n",
    "    return x ** 3"
   ]
  },
  {
   "cell_type": "code",
   "execution_count": 33,
   "id": "07015681",
   "metadata": {},
   "outputs": [
    {
     "data": {
      "text/plain": [
       "27"
      ]
     },
     "execution_count": 33,
     "metadata": {},
     "output_type": "execute_result"
    }
   ],
   "source": [
    "cube(3)"
   ]
  },
  {
   "cell_type": "code",
   "execution_count": 34,
   "id": "baae6059",
   "metadata": {},
   "outputs": [
    {
     "data": {
      "text/plain": [
       "2"
      ]
     },
     "execution_count": 34,
     "metadata": {},
     "output_type": "execute_result"
    }
   ],
   "source": [
    "x"
   ]
  },
  {
   "cell_type": "code",
   "execution_count": 35,
   "id": "63295ba2",
   "metadata": {},
   "outputs": [
    {
     "data": {
      "text/plain": [
       "8"
      ]
     },
     "execution_count": 35,
     "metadata": {},
     "output_type": "execute_result"
    }
   ],
   "source": [
    "cube(x)"
   ]
  },
  {
   "cell_type": "code",
   "execution_count": 36,
   "id": "58ea8ffb",
   "metadata": {},
   "outputs": [
    {
     "data": {
      "text/plain": [
       "2"
      ]
     },
     "execution_count": 36,
     "metadata": {},
     "output_type": "execute_result"
    }
   ],
   "source": [
    "x"
   ]
  },
  {
   "cell_type": "code",
   "execution_count": 37,
   "id": "4e587b86",
   "metadata": {},
   "outputs": [],
   "source": [
    "def new_x():\n",
    "    x = 'random'\n",
    "    return x"
   ]
  },
  {
   "cell_type": "code",
   "execution_count": 38,
   "id": "d6fb0353",
   "metadata": {},
   "outputs": [
    {
     "data": {
      "text/plain": [
       "'random'"
      ]
     },
     "execution_count": 38,
     "metadata": {},
     "output_type": "execute_result"
    }
   ],
   "source": [
    "new_x()"
   ]
  },
  {
   "cell_type": "code",
   "execution_count": 39,
   "id": "849b1817",
   "metadata": {},
   "outputs": [
    {
     "data": {
      "text/plain": [
       "'random'"
      ]
     },
     "execution_count": 39,
     "metadata": {},
     "output_type": "execute_result"
    }
   ],
   "source": [
    "new_x()"
   ]
  },
  {
   "cell_type": "code",
   "execution_count": 40,
   "id": "85f0426a",
   "metadata": {},
   "outputs": [
    {
     "data": {
      "text/plain": [
       "2"
      ]
     },
     "execution_count": 40,
     "metadata": {},
     "output_type": "execute_result"
    }
   ],
   "source": [
    "x"
   ]
  },
  {
   "cell_type": "code",
   "execution_count": 41,
   "id": "b7adc956",
   "metadata": {},
   "outputs": [
    {
     "data": {
      "text/plain": [
       "set()"
      ]
     },
     "execution_count": 41,
     "metadata": {},
     "output_type": "execute_result"
    }
   ],
   "source": [
    "set()"
   ]
  },
  {
   "cell_type": "code",
   "execution_count": 42,
   "id": "5a6b479f",
   "metadata": {},
   "outputs": [
    {
     "data": {
      "text/plain": [
       "1"
      ]
     },
     "execution_count": 42,
     "metadata": {},
     "output_type": "execute_result"
    }
   ],
   "source": [
    "hash(1)"
   ]
  },
  {
   "cell_type": "code",
   "execution_count": 43,
   "id": "f6012255",
   "metadata": {},
   "outputs": [
    {
     "data": {
      "text/plain": [
       "11"
      ]
     },
     "execution_count": 43,
     "metadata": {},
     "output_type": "execute_result"
    }
   ],
   "source": [
    "hash(11)"
   ]
  },
  {
   "cell_type": "code",
   "execution_count": 44,
   "id": "074918f3",
   "metadata": {},
   "outputs": [
    {
     "data": {
      "text/plain": [
       "-3060421132845705623"
      ]
     },
     "execution_count": 44,
     "metadata": {},
     "output_type": "execute_result"
    }
   ],
   "source": [
    "hash('11')"
   ]
  },
  {
   "cell_type": "code",
   "execution_count": 45,
   "id": "32dc1a65",
   "metadata": {},
   "outputs": [
    {
     "data": {
      "text/plain": [
       "-2"
      ]
     },
     "execution_count": 45,
     "metadata": {},
     "output_type": "execute_result"
    }
   ],
   "source": [
    "hash(-1)"
   ]
  },
  {
   "cell_type": "code",
   "execution_count": 46,
   "id": "c549aa5b",
   "metadata": {},
   "outputs": [
    {
     "data": {
      "text/plain": [
       "-2"
      ]
     },
     "execution_count": 46,
     "metadata": {},
     "output_type": "execute_result"
    }
   ],
   "source": [
    "hash(-2)"
   ]
  },
  {
   "cell_type": "code",
   "execution_count": 47,
   "id": "eb4460f3",
   "metadata": {},
   "outputs": [
    {
     "data": {
      "text/plain": [
       "0"
      ]
     },
     "execution_count": 47,
     "metadata": {},
     "output_type": "execute_result"
    }
   ],
   "source": [
    "hash(0)"
   ]
  },
  {
   "cell_type": "code",
   "execution_count": 48,
   "id": "877c5db9",
   "metadata": {},
   "outputs": [
    {
     "data": {
      "text/plain": [
       "9161379523334786254"
      ]
     },
     "execution_count": 48,
     "metadata": {},
     "output_type": "execute_result"
    }
   ],
   "source": [
    "hash('.')"
   ]
  },
  {
   "cell_type": "code",
   "execution_count": 49,
   "id": "214ef6a8",
   "metadata": {},
   "outputs": [
    {
     "data": {
      "text/plain": [
       "1868999672928876137"
      ]
     },
     "execution_count": 49,
     "metadata": {},
     "output_type": "execute_result"
    }
   ],
   "source": [
    "hash('10')"
   ]
  },
  {
   "cell_type": "code",
   "execution_count": 50,
   "id": "ddffd0ce",
   "metadata": {},
   "outputs": [
    {
     "data": {
      "text/plain": [
       "10"
      ]
     },
     "execution_count": 50,
     "metadata": {},
     "output_type": "execute_result"
    }
   ],
   "source": [
    "hash(10)"
   ]
  },
  {
   "cell_type": "code",
   "execution_count": 51,
   "id": "439450da",
   "metadata": {},
   "outputs": [
    {
     "data": {
      "text/plain": [
       "100000"
      ]
     },
     "execution_count": 51,
     "metadata": {},
     "output_type": "execute_result"
    }
   ],
   "source": [
    "hash(100000)"
   ]
  },
  {
   "cell_type": "code",
   "execution_count": 52,
   "id": "b63f7cb4",
   "metadata": {},
   "outputs": [
    {
     "data": {
      "text/plain": [
       "-10"
      ]
     },
     "execution_count": 52,
     "metadata": {},
     "output_type": "execute_result"
    }
   ],
   "source": [
    "hash(-10)"
   ]
  },
  {
   "cell_type": "code",
   "execution_count": 53,
   "id": "439ac699",
   "metadata": {},
   "outputs": [],
   "source": [
    "my_set = {1, 2 ,3}"
   ]
  },
  {
   "cell_type": "code",
   "execution_count": 54,
   "id": "13ebbc4a",
   "metadata": {},
   "outputs": [
    {
     "name": "stdout",
     "output_type": "stream",
     "text": [
      "{1, 2, 3}\n"
     ]
    }
   ],
   "source": [
    "print(my_set)"
   ]
  },
  {
   "cell_type": "code",
   "execution_count": 55,
   "id": "9b172d3f",
   "metadata": {},
   "outputs": [],
   "source": [
    "my_set.add(3)\n",
    "my_set.add(4)\n",
    "my_set.add(5)"
   ]
  },
  {
   "cell_type": "code",
   "execution_count": 56,
   "id": "ed3609a8",
   "metadata": {},
   "outputs": [
    {
     "data": {
      "text/plain": [
       "{1, 2, 3, 4, 5}"
      ]
     },
     "execution_count": 56,
     "metadata": {},
     "output_type": "execute_result"
    }
   ],
   "source": [
    "my_set"
   ]
  },
  {
   "cell_type": "code",
   "execution_count": 57,
   "id": "0169d581",
   "metadata": {},
   "outputs": [
    {
     "name": "stdout",
     "output_type": "stream",
     "text": [
      "{1, 2, 3, 4, 5, -2, -1}\n"
     ]
    }
   ],
   "source": [
    "my_set.add(-1)\n",
    "my_set.add(-2)\n",
    "print(my_set)"
   ]
  },
  {
   "cell_type": "code",
   "execution_count": 58,
   "id": "5b516a3a",
   "metadata": {},
   "outputs": [],
   "source": [
    "my_set.remove(-1)"
   ]
  },
  {
   "cell_type": "code",
   "execution_count": 59,
   "id": "f12d6539",
   "metadata": {},
   "outputs": [
    {
     "data": {
      "text/plain": [
       "{-2, 1, 2, 3, 4, 5}"
      ]
     },
     "execution_count": 59,
     "metadata": {},
     "output_type": "execute_result"
    }
   ],
   "source": [
    "my_set"
   ]
  },
  {
   "cell_type": "code",
   "execution_count": 60,
   "id": "1cf67fe1",
   "metadata": {},
   "outputs": [
    {
     "data": {
      "text/plain": [
       "False"
      ]
     },
     "execution_count": 60,
     "metadata": {},
     "output_type": "execute_result"
    }
   ],
   "source": [
    "-1 in my_set"
   ]
  },
  {
   "cell_type": "code",
   "execution_count": 61,
   "id": "d86ff4f9",
   "metadata": {},
   "outputs": [
    {
     "data": {
      "text/plain": [
       "True"
      ]
     },
     "execution_count": 61,
     "metadata": {},
     "output_type": "execute_result"
    }
   ],
   "source": [
    "-2 in my_set"
   ]
  },
  {
   "cell_type": "code",
   "execution_count": 62,
   "id": "63f7933e",
   "metadata": {},
   "outputs": [
    {
     "data": {
      "text/plain": [
       "True"
      ]
     },
     "execution_count": 62,
     "metadata": {},
     "output_type": "execute_result"
    }
   ],
   "source": [
    "2 in my_set"
   ]
  },
  {
   "cell_type": "code",
   "execution_count": 63,
   "id": "81eeea6d",
   "metadata": {},
   "outputs": [
    {
     "data": {
      "text/plain": [
       "False"
      ]
     },
     "execution_count": 63,
     "metadata": {},
     "output_type": "execute_result"
    }
   ],
   "source": [
    "7 in my_set"
   ]
  },
  {
   "cell_type": "code",
   "execution_count": 64,
   "id": "753716f5",
   "metadata": {},
   "outputs": [
    {
     "data": {
      "text/plain": [
       "{-2, 1, 2, 3, 4, 5}"
      ]
     },
     "execution_count": 64,
     "metadata": {},
     "output_type": "execute_result"
    }
   ],
   "source": [
    "my_set"
   ]
  },
  {
   "cell_type": "code",
   "execution_count": 65,
   "id": "ee701cc9",
   "metadata": {},
   "outputs": [
    {
     "data": {
      "text/plain": [
       "{-2, 1, 2, 3, 4, 5}"
      ]
     },
     "execution_count": 65,
     "metadata": {},
     "output_type": "execute_result"
    }
   ],
   "source": [
    "my_set"
   ]
  },
  {
   "cell_type": "code",
   "execution_count": 66,
   "id": "c70cb87a",
   "metadata": {},
   "outputs": [
    {
     "data": {
      "text/plain": [
       "{-2, 1, 2, 3, 4, 5, 'abc', 'qwerty'}"
      ]
     },
     "execution_count": 66,
     "metadata": {},
     "output_type": "execute_result"
    }
   ],
   "source": [
    "my_set.add('abc')\n",
    "my_set.add('qwerty')\n",
    "my_set"
   ]
  },
  {
   "cell_type": "code",
   "execution_count": 67,
   "id": "f0ab7d7d",
   "metadata": {},
   "outputs": [],
   "source": [
    "my_set.add(-1)"
   ]
  },
  {
   "cell_type": "code",
   "execution_count": 68,
   "id": "5689cd49",
   "metadata": {},
   "outputs": [
    {
     "data": {
      "text/plain": [
       "{-1, -2, 1, 2, 3, 4, 5, 'abc', 'qwerty'}"
      ]
     },
     "execution_count": 68,
     "metadata": {},
     "output_type": "execute_result"
    }
   ],
   "source": [
    "my_set"
   ]
  },
  {
   "cell_type": "code",
   "execution_count": 69,
   "id": "07597d5e",
   "metadata": {},
   "outputs": [],
   "source": [
    "my_set.add(0)"
   ]
  },
  {
   "cell_type": "code",
   "execution_count": 70,
   "id": "7051999a",
   "metadata": {},
   "outputs": [
    {
     "data": {
      "text/plain": [
       "{-1, -2, 0, 1, 2, 3, 4, 5, None, 'abc', 'qwerty'}"
      ]
     },
     "execution_count": 70,
     "metadata": {},
     "output_type": "execute_result"
    }
   ],
   "source": [
    "my_set.add(None)\n",
    "my_set"
   ]
  },
  {
   "cell_type": "code",
   "execution_count": 71,
   "id": "cbeb3cbb",
   "metadata": {},
   "outputs": [
    {
     "data": {
      "text/plain": [
       "5880312114494"
      ]
     },
     "execution_count": 71,
     "metadata": {},
     "output_type": "execute_result"
    }
   ],
   "source": [
    "hash(None)"
   ]
  },
  {
   "cell_type": "code",
   "execution_count": 72,
   "id": "d242f231",
   "metadata": {},
   "outputs": [
    {
     "data": {
      "text/plain": [
       "5880312114494"
      ]
     },
     "execution_count": 72,
     "metadata": {},
     "output_type": "execute_result"
    }
   ],
   "source": [
    "hash(None)"
   ]
  },
  {
   "cell_type": "code",
   "execution_count": 73,
   "id": "09856689",
   "metadata": {},
   "outputs": [
    {
     "data": {
      "text/plain": [
       "True"
      ]
     },
     "execution_count": 73,
     "metadata": {},
     "output_type": "execute_result"
    }
   ],
   "source": [
    "None in my_set"
   ]
  },
  {
   "cell_type": "code",
   "execution_count": 74,
   "id": "77c007c7",
   "metadata": {},
   "outputs": [],
   "source": [
    "another_set = my_set"
   ]
  },
  {
   "cell_type": "code",
   "execution_count": 75,
   "id": "14963d45",
   "metadata": {},
   "outputs": [],
   "source": [
    "another_set.remove(None)"
   ]
  },
  {
   "cell_type": "code",
   "execution_count": 76,
   "id": "81709790",
   "metadata": {},
   "outputs": [
    {
     "data": {
      "text/plain": [
       "{-1, -2, 0, 1, 2, 3, 4, 5, 'abc', 'qwerty'}"
      ]
     },
     "execution_count": 76,
     "metadata": {},
     "output_type": "execute_result"
    }
   ],
   "source": [
    "my_set"
   ]
  },
  {
   "cell_type": "code",
   "execution_count": 77,
   "id": "a82aab76",
   "metadata": {},
   "outputs": [
    {
     "data": {
      "text/plain": [
       "{-1, -2, 0, 1, 2, 3, 4, 5, 'abc', 'qwerty'}"
      ]
     },
     "execution_count": 77,
     "metadata": {},
     "output_type": "execute_result"
    }
   ],
   "source": [
    "another_set"
   ]
  },
  {
   "cell_type": "code",
   "execution_count": 78,
   "id": "b4cfc2fc",
   "metadata": {},
   "outputs": [
    {
     "data": {
      "text/plain": [
       "True"
      ]
     },
     "execution_count": 78,
     "metadata": {},
     "output_type": "execute_result"
    }
   ],
   "source": [
    "my_set is another_set"
   ]
  },
  {
   "cell_type": "code",
   "execution_count": 79,
   "id": "bbcc4cb9",
   "metadata": {},
   "outputs": [
    {
     "data": {
      "text/plain": [
       "True"
      ]
     },
     "execution_count": 79,
     "metadata": {},
     "output_type": "execute_result"
    }
   ],
   "source": [
    "my_set == another_set"
   ]
  },
  {
   "cell_type": "code",
   "execution_count": 80,
   "id": "49f31b1d",
   "metadata": {},
   "outputs": [],
   "source": [
    "set2 = set(my_set)"
   ]
  },
  {
   "cell_type": "code",
   "execution_count": 81,
   "id": "51b59152",
   "metadata": {},
   "outputs": [
    {
     "data": {
      "text/plain": [
       "True"
      ]
     },
     "execution_count": 81,
     "metadata": {},
     "output_type": "execute_result"
    }
   ],
   "source": [
    "set2 == my_set"
   ]
  },
  {
   "cell_type": "code",
   "execution_count": 82,
   "id": "1ae6719a",
   "metadata": {},
   "outputs": [],
   "source": [
    "set2.remove(0)"
   ]
  },
  {
   "cell_type": "code",
   "execution_count": 83,
   "id": "60a4463f",
   "metadata": {},
   "outputs": [
    {
     "data": {
      "text/plain": [
       "False"
      ]
     },
     "execution_count": 83,
     "metadata": {},
     "output_type": "execute_result"
    }
   ],
   "source": [
    "set2 == my_set"
   ]
  },
  {
   "cell_type": "code",
   "execution_count": 84,
   "id": "f140fd97",
   "metadata": {},
   "outputs": [],
   "source": [
    "set2.add(0)"
   ]
  },
  {
   "cell_type": "code",
   "execution_count": 85,
   "id": "fdb49af6",
   "metadata": {},
   "outputs": [
    {
     "data": {
      "text/plain": [
       "{-1, -2, 0, 1, 2, 3, 4, 5, 'abc', 'qwerty'}"
      ]
     },
     "execution_count": 85,
     "metadata": {},
     "output_type": "execute_result"
    }
   ],
   "source": [
    "set2"
   ]
  },
  {
   "cell_type": "code",
   "execution_count": 86,
   "id": "9855ab6d",
   "metadata": {},
   "outputs": [
    {
     "name": "stdout",
     "output_type": "stream",
     "text": [
      "(1, 'qwe', ())\n"
     ]
    }
   ],
   "source": [
    "tuple_of_any = (1, 'qwe', ())\n",
    "print(tuple_of_any)"
   ]
  },
  {
   "cell_type": "code",
   "execution_count": 87,
   "id": "7c0685f7",
   "metadata": {},
   "outputs": [
    {
     "name": "stdout",
     "output_type": "stream",
     "text": [
      "{1, 2, (1, 'qwe', ()), 'qwe'}\n"
     ]
    }
   ],
   "source": [
    "some_set = {tuple_of_any, 1, 2, 'qwe'}\n",
    "print(some_set)"
   ]
  },
  {
   "cell_type": "code",
   "execution_count": 88,
   "id": "5b3b24ab",
   "metadata": {},
   "outputs": [],
   "source": [
    "tuple_of_any += (['a', 'b'],)"
   ]
  },
  {
   "cell_type": "code",
   "execution_count": 89,
   "id": "0cdddce6",
   "metadata": {},
   "outputs": [
    {
     "data": {
      "text/plain": [
       "['a', 'b']"
      ]
     },
     "execution_count": 89,
     "metadata": {},
     "output_type": "execute_result"
    }
   ],
   "source": [
    "tuple_of_any[3]"
   ]
  },
  {
   "cell_type": "code",
   "execution_count": 90,
   "id": "c83b312f",
   "metadata": {},
   "outputs": [
    {
     "data": {
      "text/plain": [
       "(1, 'qwe', (), ['a', 'b', 'c'])"
      ]
     },
     "execution_count": 90,
     "metadata": {},
     "output_type": "execute_result"
    }
   ],
   "source": [
    "tuple_of_any[3].append('c')\n",
    "tuple_of_any"
   ]
  },
  {
   "cell_type": "code",
   "execution_count": 91,
   "id": "30d43261",
   "metadata": {},
   "outputs": [],
   "source": [
    "some_numbers = [11, 22 ,33 ,44 ,11 ,22 ,11 ,33 ,55 ,2, 2, 3, 5]"
   ]
  },
  {
   "cell_type": "code",
   "execution_count": 92,
   "id": "f84f628e",
   "metadata": {},
   "outputs": [
    {
     "data": {
      "text/plain": [
       "{2, 3, 5, 11, 22, 33, 44, 55}"
      ]
     },
     "execution_count": 92,
     "metadata": {},
     "output_type": "execute_result"
    }
   ],
   "source": [
    "set(some_numbers)"
   ]
  },
  {
   "cell_type": "code",
   "execution_count": 93,
   "id": "fe3d3033",
   "metadata": {},
   "outputs": [
    {
     "name": "stdout",
     "output_type": "stream",
     "text": [
      "33\n",
      "2\n",
      "3\n",
      "5\n",
      "11\n",
      "44\n",
      "22\n",
      "55\n"
     ]
    }
   ],
   "source": [
    "for num in set(some_numbers):\n",
    "    print(num)"
   ]
  },
  {
   "cell_type": "code",
   "execution_count": 94,
   "id": "c2b86ba5",
   "metadata": {},
   "outputs": [
    {
     "name": "stdout",
     "output_type": "stream",
     "text": [
      "33\n",
      "2\n",
      "3\n",
      "5\n",
      "11\n",
      "44\n",
      "22\n",
      "55\n"
     ]
    }
   ],
   "source": [
    "for num in set(some_numbers):\n",
    "    print(num)"
   ]
  },
  {
   "cell_type": "code",
   "execution_count": 95,
   "id": "4cb07d12",
   "metadata": {},
   "outputs": [],
   "source": [
    "s = set(some_numbers)"
   ]
  },
  {
   "cell_type": "code",
   "execution_count": 96,
   "id": "318b7d23",
   "metadata": {},
   "outputs": [
    {
     "name": "stdout",
     "output_type": "stream",
     "text": [
      "33\n",
      "2\n",
      "3\n",
      "5\n",
      "11\n",
      "44\n",
      "22\n",
      "55\n"
     ]
    }
   ],
   "source": [
    "for num in s:\n",
    "    print(num)"
   ]
  },
  {
   "cell_type": "code",
   "execution_count": 97,
   "id": "697710db",
   "metadata": {},
   "outputs": [],
   "source": [
    "def get_unique_words(words):\n",
    "    return set(words)"
   ]
  },
  {
   "cell_type": "code",
   "execution_count": 98,
   "id": "9a3b45f7",
   "metadata": {},
   "outputs": [
    {
     "data": {
      "text/plain": [
       "{'abc', 'bar', 'eggs', 'eggsspam', 'foo'}"
      ]
     },
     "execution_count": 98,
     "metadata": {},
     "output_type": "execute_result"
    }
   ],
   "source": [
    "get_unique_words(['abc', 'foo', 'bar', 'eggs', 'foo', 'eggs' 'spam'])"
   ]
  },
  {
   "cell_type": "code",
   "execution_count": 99,
   "id": "b0c9d6c7",
   "metadata": {},
   "outputs": [],
   "source": [
    "def show_unique_words(words):\n",
    "    know_words = set()\n",
    "    for word in words:\n",
    "        # if word in know_words:\n",
    "        #     pass\n",
    "        # else:\n",
    "        #     print('new word: ', word)\n",
    "        # if not (word in know_words)\n",
    "        if word not in know_words:\n",
    "            print('new word: ', word)\n",
    "        know_words.add(word)"
   ]
  },
  {
   "cell_type": "code",
   "execution_count": 100,
   "id": "3d217647",
   "metadata": {},
   "outputs": [],
   "source": [
    "some_words = ['abc', 'foo', 'bar', 'eggs', 'foo', 'spam', 'eggs', 'spam', 'eggs']"
   ]
  },
  {
   "cell_type": "code",
   "execution_count": 101,
   "id": "234c0ce0",
   "metadata": {},
   "outputs": [
    {
     "name": "stdout",
     "output_type": "stream",
     "text": [
      "new word:  abc\n",
      "new word:  foo\n",
      "new word:  bar\n",
      "new word:  eggs\n",
      "new word:  spam\n"
     ]
    }
   ],
   "source": [
    "show_unique_words(some_words)"
   ]
  },
  {
   "cell_type": "code",
   "execution_count": 102,
   "id": "918388af",
   "metadata": {},
   "outputs": [],
   "source": [
    "def show_unique_words(words):\n",
    "    know_words = set()\n",
    "    for word in words:\n",
    "        if word in know_words:\n",
    "            continue\n",
    "        print('new word:', word)   \n",
    "        know_words.add(word)"
   ]
  },
  {
   "cell_type": "code",
   "execution_count": 103,
   "id": "c2d6b4f9",
   "metadata": {},
   "outputs": [
    {
     "name": "stdout",
     "output_type": "stream",
     "text": [
      "new word: abc\n",
      "new word: foo\n",
      "new word: bar\n",
      "new word: eggs\n",
      "new word: spam\n"
     ]
    }
   ],
   "source": [
    "show_unique_words(some_words)"
   ]
  },
  {
   "cell_type": "code",
   "execution_count": 104,
   "id": "8cadb6ba",
   "metadata": {},
   "outputs": [],
   "source": [
    "my_dict = {\n",
    "    -1: 'minus 1',\n",
    "    -2: 'minus 2',\n",
    "    1: 'number one',\n",
    "    \"1\": 'number one',\n",
    "    (): 'empty tuple',\n",
    "    (1, 2): [1, 2],\n",
    "    'list_of_odds': [1, 3 ,5],\n",
    "    'list_of_evens': [2, 4 ,6],\n",
    "    \n",
    "    'weather': {\n",
    "        'temp':12,\n",
    "        'humidity': '40%',\n",
    "    },\n",
    "    \n",
    "}"
   ]
  },
  {
   "cell_type": "code",
   "execution_count": 105,
   "id": "b4d0f960",
   "metadata": {},
   "outputs": [
    {
     "data": {
      "text/plain": [
       "{-1: 'minus 1',\n",
       " -2: 'minus 2',\n",
       " 1: 'number one',\n",
       " '1': 'number one',\n",
       " (): 'empty tuple',\n",
       " (1, 2): [1, 2],\n",
       " 'list_of_odds': [1, 3, 5],\n",
       " 'list_of_evens': [2, 4, 6],\n",
       " 'weather': {'temp': 12, 'humidity': '40%'}}"
      ]
     },
     "execution_count": 105,
     "metadata": {},
     "output_type": "execute_result"
    }
   ],
   "source": [
    "my_dict"
   ]
  },
  {
   "cell_type": "code",
   "execution_count": 106,
   "id": "2afd8668",
   "metadata": {},
   "outputs": [
    {
     "name": "stdout",
     "output_type": "stream",
     "text": [
      "{-1: 'minus 1', -2: 'minus 2', 1: 'number one', '1': 'number one', (): 'empty tuple', (1, 2): [1, 2], 'list_of_odds': [1, 3, 5], 'list_of_evens': [2, 4, 6], 'weather': {'temp': 12, 'humidity': '40%'}}\n"
     ]
    }
   ],
   "source": [
    "print(my_dict)"
   ]
  },
  {
   "cell_type": "code",
   "execution_count": 107,
   "id": "ecb81522",
   "metadata": {},
   "outputs": [
    {
     "name": "stdout",
     "output_type": "stream",
     "text": [
      "-1\n",
      "-2\n",
      "1\n",
      "1\n",
      "()\n",
      "(1, 2)\n",
      "list_of_odds\n",
      "list_of_evens\n",
      "weather\n"
     ]
    }
   ],
   "source": [
    "for key in my_dict:\n",
    "    print(key)"
   ]
  },
  {
   "cell_type": "code",
   "execution_count": 108,
   "id": "a31201d5",
   "metadata": {},
   "outputs": [
    {
     "name": "stdout",
     "output_type": "stream",
     "text": [
      "minus 1\n",
      "minus 2\n",
      "number one\n",
      "number one\n",
      "empty tuple\n",
      "[1, 2]\n",
      "[1, 3, 5]\n",
      "[2, 4, 6]\n",
      "{'temp': 12, 'humidity': '40%'}\n"
     ]
    }
   ],
   "source": [
    "for value in my_dict.values():\n",
    "    print(value)"
   ]
  },
  {
   "cell_type": "code",
   "execution_count": 109,
   "id": "d0725c6e",
   "metadata": {},
   "outputs": [
    {
     "data": {
      "text/plain": [
       "{'temp': 12, 'humidity': '40%'}"
      ]
     },
     "execution_count": 109,
     "metadata": {},
     "output_type": "execute_result"
    }
   ],
   "source": [
    "my_dict['weather']"
   ]
  },
  {
   "cell_type": "code",
   "execution_count": 110,
   "id": "afed0e8c",
   "metadata": {},
   "outputs": [],
   "source": [
    "my_dict['weather']['rain-chance'] = '70%'"
   ]
  },
  {
   "cell_type": "code",
   "execution_count": 111,
   "id": "358a8e32",
   "metadata": {},
   "outputs": [
    {
     "data": {
      "text/plain": [
       "{'temp': 12, 'humidity': '40%', 'rain-chance': '70%'}"
      ]
     },
     "execution_count": 111,
     "metadata": {},
     "output_type": "execute_result"
    }
   ],
   "source": [
    "my_dict['weather']"
   ]
  },
  {
   "cell_type": "code",
   "execution_count": 112,
   "id": "1b1f2ed4",
   "metadata": {},
   "outputs": [
    {
     "data": {
      "text/plain": [
       "{-1: 'minus 1',\n",
       " -2: 'minus 2',\n",
       " 1: 'number one',\n",
       " '1': 'number one',\n",
       " (): 'empty tuple',\n",
       " (1, 2): [1, 2],\n",
       " 'list_of_odds': [1, 3, 5],\n",
       " 'list_of_evens': [2, 4, 6],\n",
       " 'weather': {'temp': 12, 'humidity': '40%', 'rain-chance': '70%'}}"
      ]
     },
     "execution_count": 112,
     "metadata": {},
     "output_type": "execute_result"
    }
   ],
   "source": [
    "my_dict"
   ]
  },
  {
   "cell_type": "code",
   "execution_count": 113,
   "id": "6e44063d",
   "metadata": {},
   "outputs": [
    {
     "data": {
      "text/plain": [
       "'number one'"
      ]
     },
     "execution_count": 113,
     "metadata": {},
     "output_type": "execute_result"
    }
   ],
   "source": [
    "my_dict['1']"
   ]
  },
  {
   "cell_type": "code",
   "execution_count": 114,
   "id": "a8a343ad",
   "metadata": {},
   "outputs": [],
   "source": [
    "my_dict['1'] = 'one string'"
   ]
  },
  {
   "cell_type": "code",
   "execution_count": 115,
   "id": "e2fd2573",
   "metadata": {},
   "outputs": [
    {
     "data": {
      "text/plain": [
       "{-1: 'minus 1',\n",
       " -2: 'minus 2',\n",
       " 1: 'number one',\n",
       " '1': 'one string',\n",
       " (): 'empty tuple',\n",
       " (1, 2): [1, 2],\n",
       " 'list_of_odds': [1, 3, 5],\n",
       " 'list_of_evens': [2, 4, 6],\n",
       " 'weather': {'temp': 12, 'humidity': '40%', 'rain-chance': '70%'}}"
      ]
     },
     "execution_count": 115,
     "metadata": {},
     "output_type": "execute_result"
    }
   ],
   "source": [
    "my_dict"
   ]
  },
  {
   "cell_type": "code",
   "execution_count": 116,
   "id": "90a2078b",
   "metadata": {},
   "outputs": [],
   "source": [
    "my_dict[1] = 'one num'"
   ]
  },
  {
   "cell_type": "code",
   "execution_count": 117,
   "id": "4ed14ecc",
   "metadata": {},
   "outputs": [
    {
     "data": {
      "text/plain": [
       "{-1: 'minus 1',\n",
       " -2: 'minus 2',\n",
       " 1: 'one num',\n",
       " '1': 'one string',\n",
       " (): 'empty tuple',\n",
       " (1, 2): [1, 2],\n",
       " 'list_of_odds': [1, 3, 5],\n",
       " 'list_of_evens': [2, 4, 6],\n",
       " 'weather': {'temp': 12, 'humidity': '40%', 'rain-chance': '70%'}}"
      ]
     },
     "execution_count": 117,
     "metadata": {},
     "output_type": "execute_result"
    }
   ],
   "source": [
    "my_dict"
   ]
  },
  {
   "cell_type": "code",
   "execution_count": 118,
   "id": "ded0f40b",
   "metadata": {},
   "outputs": [
    {
     "data": {
      "text/plain": [
       "'minus 2'"
      ]
     },
     "execution_count": 118,
     "metadata": {},
     "output_type": "execute_result"
    }
   ],
   "source": [
    "my_dict.pop(-2)"
   ]
  },
  {
   "cell_type": "code",
   "execution_count": 119,
   "id": "42f77ba7",
   "metadata": {},
   "outputs": [
    {
     "data": {
      "text/plain": [
       "{-1: 'minus 1',\n",
       " 1: 'one num',\n",
       " '1': 'one string',\n",
       " (): 'empty tuple',\n",
       " (1, 2): [1, 2],\n",
       " 'list_of_odds': [1, 3, 5],\n",
       " 'list_of_evens': [2, 4, 6],\n",
       " 'weather': {'temp': 12, 'humidity': '40%', 'rain-chance': '70%'}}"
      ]
     },
     "execution_count": 119,
     "metadata": {},
     "output_type": "execute_result"
    }
   ],
   "source": [
    "my_dict"
   ]
  },
  {
   "cell_type": "code",
   "execution_count": 122,
   "id": "abe02fe2",
   "metadata": {},
   "outputs": [],
   "source": [
    "#my_dict['spam']"
   ]
  },
  {
   "cell_type": "code",
   "execution_count": 123,
   "id": "254bfb8b",
   "metadata": {},
   "outputs": [],
   "source": [
    "my_dict['spam'] = 'eggs'"
   ]
  },
  {
   "cell_type": "code",
   "execution_count": 124,
   "id": "b8c9ea20",
   "metadata": {},
   "outputs": [
    {
     "data": {
      "text/plain": [
       "{-1: 'minus 1',\n",
       " 1: 'one num',\n",
       " '1': 'one string',\n",
       " (): 'empty tuple',\n",
       " (1, 2): [1, 2],\n",
       " 'list_of_odds': [1, 3, 5],\n",
       " 'list_of_evens': [2, 4, 6],\n",
       " 'weather': {'temp': 12, 'humidity': '40%', 'rain-chance': '70%'},\n",
       " 'spam': 'eggs'}"
      ]
     },
     "execution_count": 124,
     "metadata": {},
     "output_type": "execute_result"
    }
   ],
   "source": [
    "my_dict"
   ]
  },
  {
   "cell_type": "code",
   "execution_count": 125,
   "id": "9aed2cc9",
   "metadata": {},
   "outputs": [
    {
     "data": {
      "text/plain": [
       "(2, 4, 6, 9, 10, 12, 13, 15)"
      ]
     },
     "execution_count": 125,
     "metadata": {},
     "output_type": "execute_result"
    }
   ],
   "source": [
    "evens"
   ]
  },
  {
   "cell_type": "code",
   "execution_count": 126,
   "id": "1f21dbcf",
   "metadata": {},
   "outputs": [
    {
     "data": {
      "text/plain": [
       "['hello', 'word', 'python', 'code', '123']"
      ]
     },
     "execution_count": 126,
     "metadata": {},
     "output_type": "execute_result"
    }
   ],
   "source": [
    "list_of_strings"
   ]
  },
  {
   "cell_type": "code",
   "execution_count": 127,
   "id": "d03d1189",
   "metadata": {},
   "outputs": [
    {
     "data": {
      "text/plain": [
       "range(0, 15)"
      ]
     },
     "execution_count": 127,
     "metadata": {},
     "output_type": "execute_result"
    }
   ],
   "source": [
    "range(0,15)"
   ]
  },
  {
   "cell_type": "code",
   "execution_count": 128,
   "id": "5896661f",
   "metadata": {},
   "outputs": [
    {
     "name": "stdout",
     "output_type": "stream",
     "text": [
      "0\n",
      "1\n",
      "2\n",
      "3\n",
      "4\n",
      "5\n",
      "6\n",
      "7\n",
      "8\n",
      "9\n",
      "10\n",
      "11\n",
      "12\n",
      "13\n",
      "14\n"
     ]
    }
   ],
   "source": [
    "for i in range(15):\n",
    "    print(i)"
   ]
  },
  {
   "cell_type": "code",
   "execution_count": 129,
   "id": "95fec4d1",
   "metadata": {},
   "outputs": [
    {
     "data": {
      "text/plain": [
       "[0, 1, 2, 3, 4, 5, 6]"
      ]
     },
     "execution_count": 129,
     "metadata": {},
     "output_type": "execute_result"
    }
   ],
   "source": [
    "list(range(7))"
   ]
  },
  {
   "cell_type": "code",
   "execution_count": 130,
   "id": "5d1c79e1",
   "metadata": {},
   "outputs": [
    {
     "data": {
      "text/plain": [
       "7"
      ]
     },
     "execution_count": 130,
     "metadata": {},
     "output_type": "execute_result"
    }
   ],
   "source": [
    "len(list(range(7)))"
   ]
  },
  {
   "cell_type": "code",
   "execution_count": 131,
   "id": "37a00051",
   "metadata": {},
   "outputs": [
    {
     "name": "stdout",
     "output_type": "stream",
     "text": [
      "[0, 1, 2, 3, 4, 5, 6, 7, 8, 9, 10, 11, 12, 13, 14, 15]\n"
     ]
    }
   ],
   "source": [
    "numbers = list(range(0,16))\n",
    "print(numbers)"
   ]
  },
  {
   "cell_type": "code",
   "execution_count": 132,
   "id": "534751a0",
   "metadata": {},
   "outputs": [
    {
     "name": "stdout",
     "output_type": "stream",
     "text": [
      "[1, 3, 5, 7, 9, 11, 13, 15]\n"
     ]
    }
   ],
   "source": [
    "odds = []\n",
    "for number in numbers:\n",
    "    if number % 2 == 0:\n",
    "        continue\n",
    "    odds.append(number)\n",
    "print(odds)"
   ]
  },
  {
   "cell_type": "code",
   "execution_count": 136,
   "id": "1ff4d1e6",
   "metadata": {},
   "outputs": [
    {
     "name": "stdout",
     "output_type": "stream",
     "text": [
      "[1, 3, 5, 7, 9, 11, 13, 15, 17, 19]\n"
     ]
    }
   ],
   "source": [
    "odds = [i for i in range(20) if i % 2 ]\n",
    "print(odds)"
   ]
  },
  {
   "cell_type": "code",
   "execution_count": 137,
   "id": "9e186116",
   "metadata": {},
   "outputs": [
    {
     "data": {
      "text/plain": [
       "[0, 1, 2, 3, 4, 5, 6, 7, 8, 9]"
      ]
     },
     "execution_count": 137,
     "metadata": {},
     "output_type": "execute_result"
    }
   ],
   "source": [
    "list(range(10))"
   ]
  },
  {
   "cell_type": "code",
   "execution_count": 138,
   "id": "356bd488",
   "metadata": {},
   "outputs": [
    {
     "data": {
      "text/plain": [
       "[5, 6, 7, 8, 9]"
      ]
     },
     "execution_count": 138,
     "metadata": {},
     "output_type": "execute_result"
    }
   ],
   "source": [
    "list(range(5, 10))"
   ]
  },
  {
   "cell_type": "code",
   "execution_count": 141,
   "id": "a4a354df",
   "metadata": {},
   "outputs": [
    {
     "data": {
      "text/plain": [
       "[5, 8, 11, 14, 17, 20]"
      ]
     },
     "execution_count": 141,
     "metadata": {},
     "output_type": "execute_result"
    }
   ],
   "source": [
    "list(range(5, 21, 3))"
   ]
  },
  {
   "cell_type": "code",
   "execution_count": 143,
   "id": "7834dc22",
   "metadata": {},
   "outputs": [
    {
     "name": "stdout",
     "output_type": "stream",
     "text": [
      "{11, 13, 15, 17, 19}\n"
     ]
    }
   ],
   "source": [
    "odds_set = {i for i in range(10, 20) if i % 2}\n",
    "print(odds_set)"
   ]
  },
  {
   "cell_type": "code",
   "execution_count": 145,
   "id": "453b153d",
   "metadata": {},
   "outputs": [
    {
     "data": {
      "text/plain": [
       "{1: 1,\n",
       " 2: 4,\n",
       " 3: 9,\n",
       " 4: 16,\n",
       " 5: 25,\n",
       " 6: 36,\n",
       " 7: 49,\n",
       " 8: 64,\n",
       " 9: 81,\n",
       " 10: 100,\n",
       " 11: 121,\n",
       " 12: 144,\n",
       " 13: 169,\n",
       " 14: 196}"
      ]
     },
     "execution_count": 145,
     "metadata": {},
     "output_type": "execute_result"
    }
   ],
   "source": [
    "squares = {\n",
    "    i: i ** 2\n",
    "    for i in range(1, 15)\n",
    "}\n",
    "squares"
   ]
  },
  {
   "cell_type": "code",
   "execution_count": 147,
   "id": "c08af8f1",
   "metadata": {},
   "outputs": [
    {
     "data": {
      "text/plain": [
       "[0, 1, 4, 9, 16]"
      ]
     },
     "execution_count": 147,
     "metadata": {},
     "output_type": "execute_result"
    }
   ],
   "source": [
    "squares_list = [ i ** 2for i in range(5)]\n",
    "squares_list"
   ]
  },
  {
   "cell_type": "code",
   "execution_count": 149,
   "id": "b140a252",
   "metadata": {},
   "outputs": [
    {
     "data": {
      "text/plain": [
       "[4, 16, 36, 64]"
      ]
     },
     "execution_count": 149,
     "metadata": {},
     "output_type": "execute_result"
    }
   ],
   "source": [
    "evens_squares_list = [ i ** 2 for i in range(1, 9) if i % 2 == 0]\n",
    "evens_squares_list"
   ]
  },
  {
   "cell_type": "code",
   "execution_count": 151,
   "id": "7772ff86",
   "metadata": {},
   "outputs": [
    {
     "data": {
      "text/plain": [
       "{'1': 1,\n",
       " '2': 8,\n",
       " '4': 64,\n",
       " '5': 125,\n",
       " '7': 343,\n",
       " '8': 512,\n",
       " '10': 1000,\n",
       " '11': 1331,\n",
       " '13': 2197,\n",
       " '14': 2744}"
      ]
     },
     "execution_count": 151,
     "metadata": {},
     "output_type": "execute_result"
    }
   ],
   "source": [
    "cubes = {\n",
    "    str(i): i ** 3\n",
    "    for i in range(1, 15)\n",
    "    if i % 3 !=0\n",
    "}\n",
    "\n",
    "cubes"
   ]
  },
  {
   "cell_type": "code",
   "execution_count": 154,
   "id": "d80accf8",
   "metadata": {},
   "outputs": [
    {
     "name": "stdout",
     "output_type": "stream",
     "text": [
      "[10, 9, 8, 7, 6, 5, 4, 3, 2, 1, 0, -1, -2, -3, -4]\n"
     ]
    }
   ],
   "source": [
    "print(list(range(10, -5, -1)))"
   ]
  },
  {
   "cell_type": "code",
   "execution_count": 155,
   "id": "c7df8e74",
   "metadata": {},
   "outputs": [
    {
     "name": "stdout",
     "output_type": "stream",
     "text": [
      "[10, 9, 8, 7, 6]\n"
     ]
    }
   ],
   "source": [
    "print(list(range(10, 5, -1)))"
   ]
  },
  {
   "cell_type": "code",
   "execution_count": 158,
   "id": "b3bcc8d6",
   "metadata": {},
   "outputs": [
    {
     "name": "stdout",
     "output_type": "stream",
     "text": [
      "[-10, -8, -6, -4]\n"
     ]
    }
   ],
   "source": [
    "print(list(range(-10, -3, 2)))"
   ]
  },
  {
   "cell_type": "code",
   "execution_count": 160,
   "id": "2a624ab1",
   "metadata": {},
   "outputs": [
    {
     "data": {
      "text/plain": [
       "0"
      ]
     },
     "execution_count": 160,
     "metadata": {},
     "output_type": "execute_result"
    }
   ],
   "source": [
    "numbers[0]"
   ]
  },
  {
   "cell_type": "code",
   "execution_count": 161,
   "id": "a9289651",
   "metadata": {},
   "outputs": [],
   "source": [
    "nimbers = list(range(10, 21))"
   ]
  },
  {
   "cell_type": "code",
   "execution_count": 163,
   "id": "8293e11d",
   "metadata": {},
   "outputs": [
    {
     "data": {
      "text/plain": [
       "10"
      ]
     },
     "execution_count": 163,
     "metadata": {},
     "output_type": "execute_result"
    }
   ],
   "source": [
    "nimbers[0]"
   ]
  },
  {
   "cell_type": "code",
   "execution_count": 164,
   "id": "e54bdd52",
   "metadata": {},
   "outputs": [
    {
     "data": {
      "text/plain": [
       "13"
      ]
     },
     "execution_count": 164,
     "metadata": {},
     "output_type": "execute_result"
    }
   ],
   "source": [
    "nimbers[3]"
   ]
  },
  {
   "cell_type": "code",
   "execution_count": 165,
   "id": "9f1e0760",
   "metadata": {},
   "outputs": [
    {
     "data": {
      "text/plain": [
       "[13, 14, 15, 16]"
      ]
     },
     "execution_count": 165,
     "metadata": {},
     "output_type": "execute_result"
    }
   ],
   "source": [
    "nimbers[3:7]"
   ]
  },
  {
   "cell_type": "code",
   "execution_count": 167,
   "id": "4b805b90",
   "metadata": {},
   "outputs": [
    {
     "data": {
      "text/plain": [
       "[17, 18, 19, 20]"
      ]
     },
     "execution_count": 167,
     "metadata": {},
     "output_type": "execute_result"
    }
   ],
   "source": [
    "nimbers[7:30]"
   ]
  },
  {
   "cell_type": "code",
   "execution_count": 178,
   "id": "5cb6701c",
   "metadata": {},
   "outputs": [
    {
     "data": {
      "text/plain": [
       "('spam', 'eggs')"
      ]
     },
     "execution_count": 178,
     "metadata": {},
     "output_type": "execute_result"
    }
   ],
   "source": [
    "t = ('foo', 'bar', 'spam', 'eggs')\n",
    "t[2:4]"
   ]
  },
  {
   "cell_type": "code",
   "execution_count": 179,
   "id": "1d4473b1",
   "metadata": {},
   "outputs": [
    {
     "data": {
      "text/plain": [
       "('spam', 'eggs')"
      ]
     },
     "execution_count": 179,
     "metadata": {},
     "output_type": "execute_result"
    }
   ],
   "source": [
    "t[2:4]"
   ]
  },
  {
   "cell_type": "code",
   "execution_count": 180,
   "id": "6a13fa22",
   "metadata": {},
   "outputs": [
    {
     "data": {
      "text/plain": [
       "('spam', 'eggs')"
      ]
     },
     "execution_count": 180,
     "metadata": {},
     "output_type": "execute_result"
    }
   ],
   "source": [
    "t[2:]"
   ]
  },
  {
   "cell_type": "code",
   "execution_count": 181,
   "id": "7d982c95",
   "metadata": {},
   "outputs": [
    {
     "data": {
      "text/plain": [
       "('bar', 'spam', 'eggs')"
      ]
     },
     "execution_count": 181,
     "metadata": {},
     "output_type": "execute_result"
    }
   ],
   "source": [
    "t[1:]"
   ]
  },
  {
   "cell_type": "code",
   "execution_count": 182,
   "id": "a45ebd59",
   "metadata": {},
   "outputs": [
    {
     "data": {
      "text/plain": [
       "('foo', 'bar', 'spam', 'eggs')"
      ]
     },
     "execution_count": 182,
     "metadata": {},
     "output_type": "execute_result"
    }
   ],
   "source": [
    "t[:]"
   ]
  },
  {
   "cell_type": "code",
   "execution_count": 183,
   "id": "a9615978",
   "metadata": {},
   "outputs": [
    {
     "data": {
      "text/plain": [
       "True"
      ]
     },
     "execution_count": 183,
     "metadata": {},
     "output_type": "execute_result"
    }
   ],
   "source": [
    "numbers == numbers[:]"
   ]
  },
  {
   "cell_type": "code",
   "execution_count": 184,
   "id": "23f61fbc",
   "metadata": {},
   "outputs": [
    {
     "data": {
      "text/plain": [
       "False"
      ]
     },
     "execution_count": 184,
     "metadata": {},
     "output_type": "execute_result"
    }
   ],
   "source": [
    "numbers is numbers[:]"
   ]
  },
  {
   "cell_type": "code",
   "execution_count": 185,
   "id": "5fb10e3f",
   "metadata": {},
   "outputs": [
    {
     "data": {
      "text/plain": [
       "[0, 1, 2, 3, 4, 5, 6, 7, 8, 9, 10, 11, 12, 13, 14, 15]"
      ]
     },
     "execution_count": 185,
     "metadata": {},
     "output_type": "execute_result"
    }
   ],
   "source": [
    "numbers[0:len(numbers)]"
   ]
  },
  {
   "cell_type": "code",
   "execution_count": 186,
   "id": "01ecb855",
   "metadata": {},
   "outputs": [
    {
     "data": {
      "text/plain": [
       "[0, 1, 2, 3, 4, 5, 6, 7, 8, 9, 10, 11, 12, 13, 14, 15]"
      ]
     },
     "execution_count": 186,
     "metadata": {},
     "output_type": "execute_result"
    }
   ],
   "source": [
    "numbers[0:]"
   ]
  },
  {
   "cell_type": "code",
   "execution_count": 187,
   "id": "323599a5",
   "metadata": {},
   "outputs": [
    {
     "data": {
      "text/plain": [
       "[1, 3, 5]"
      ]
     },
     "execution_count": 187,
     "metadata": {},
     "output_type": "execute_result"
    }
   ],
   "source": [
    "numbers[1:7:2]"
   ]
  },
  {
   "cell_type": "code",
   "execution_count": 188,
   "id": "ef77c14c",
   "metadata": {},
   "outputs": [
    {
     "data": {
      "text/plain": [
       "[]"
      ]
     },
     "execution_count": 188,
     "metadata": {},
     "output_type": "execute_result"
    }
   ],
   "source": [
    "numbers[1:7:-2]"
   ]
  },
  {
   "cell_type": "code",
   "execution_count": 189,
   "id": "67a31b02",
   "metadata": {},
   "outputs": [
    {
     "data": {
      "text/plain": [
       "[7, 5, 3]"
      ]
     },
     "execution_count": 189,
     "metadata": {},
     "output_type": "execute_result"
    }
   ],
   "source": [
    "numbers[7:1:-2]"
   ]
  },
  {
   "cell_type": "code",
   "execution_count": 190,
   "id": "921a6a85",
   "metadata": {},
   "outputs": [
    {
     "data": {
      "text/plain": [
       "[15, 14, 13, 12, 11, 10, 9, 8, 7, 6, 5, 4, 3, 2, 1, 0]"
      ]
     },
     "execution_count": 190,
     "metadata": {},
     "output_type": "execute_result"
    }
   ],
   "source": [
    "numbers[::-1]"
   ]
  },
  {
   "cell_type": "code",
   "execution_count": 194,
   "id": "e62c9264",
   "metadata": {},
   "outputs": [
    {
     "data": {
      "text/plain": [
       "[15, 14, 13, 12, 11, 10, 9, 8, 7, 6, 5, 4, 3, 2, 1, 0]"
      ]
     },
     "execution_count": 194,
     "metadata": {},
     "output_type": "execute_result"
    }
   ],
   "source": [
    "numbers.reverse()\n",
    "numbers"
   ]
  },
  {
   "cell_type": "code",
   "execution_count": 193,
   "id": "72780327",
   "metadata": {},
   "outputs": [
    {
     "data": {
      "text/plain": [
       "[0, 1, 2, 3, 4, 5, 6, 7, 8, 9, 10, 11, 12, 13, 14, 15]"
      ]
     },
     "execution_count": 193,
     "metadata": {},
     "output_type": "execute_result"
    }
   ],
   "source": [
    "numbers"
   ]
  },
  {
   "cell_type": "code",
   "execution_count": 195,
   "id": "8972a69c",
   "metadata": {},
   "outputs": [],
   "source": [
    "# home_work"
   ]
  },
  {
   "cell_type": "code",
   "execution_count": 220,
   "id": "47775d5a",
   "metadata": {},
   "outputs": [
    {
     "name": "stdout",
     "output_type": "stream",
     "text": [
      "The\n",
      "quick\n",
      "brown\n",
      "fox\n",
      "jumps\n",
      "over\n",
      "the\n",
      "lazy\n",
      "dog\n"
     ]
    }
   ],
   "source": [
    "# Создайте переменную, сложите в неё строчку со словами и пробелами, \n",
    "# например \"The quick brown fox jumps over the lazy dog\"\n",
    "per = \"The quick brown fox jumps over the lazy dog\"\n",
    "# Выполните проход в цикле for по результату выполнения метода .split(\" \") на строчку \n",
    "#(примените метод на переменную), выведите каждое слово в консоль (по слову на новой строчке).\n",
    "for i in per.split(\" \"):\n",
    "    print(i)"
   ]
  },
  {
   "cell_type": "code",
   "execution_count": 222,
   "id": "d306b767",
   "metadata": {},
   "outputs": [
    {
     "name": "stdout",
     "output_type": "stream",
     "text": [
      "[9, 16, 25, 36, 49, 64, 81, 100, 121, 144, 169, 196, 225, 256, 289, 324, 361, 400, 441, 484, 529, 576, 625, 676, 729, 784, 841, 900, 961, 1024, 1089, 1156, 1225, 1296, 1369, 1444, 1521, 1600, 1681, 1764]\n"
     ]
    }
   ],
   "source": [
    "# Создайте переменную, в которой будут все числа от 3 до 42 включительно (переменная типа list)\n",
    "per2 = [i for i in range(3, 43)]\n",
    "# Создайте новую переменную, в которой будет список всех квадратов чисел из первой переменной, \n",
    "# то есть [9, 16, 25, 36, 49, ...]\n",
    "per3 = []\n",
    "for i in per2:\n",
    "    per3.append(i ** 2)\n",
    "print(per3)"
   ]
  },
  {
   "cell_type": "code",
   "execution_count": 219,
   "id": "19d00d52",
   "metadata": {},
   "outputs": [
    {
     "name": "stdout",
     "output_type": "stream",
     "text": [
      "{9: '999', 16: '161616', 25: '252525', 36: '363636', 49: '494949', 64: '646464', 81: '818181', 100: '100100100', 121: '121121121', 144: '144144144', 169: '169169169', 196: '196196196', 225: '225225225', 256: '256256256', 289: '289289289', 324: '324324324', 361: '361361361', 400: '400400400', 441: '441441441', 484: '484484484', 529: '529529529', 576: '576576576', 625: '625625625', 676: '676676676', 729: '729729729', 784: '784784784', 841: '841841841', 900: '900900900', 961: '961961961', 1024: '102410241024', 1089: '108910891089', 1156: '115611561156', 1225: '122512251225', 1296: '129612961296', 1369: '136913691369', 1444: '144414441444', 1521: '152115211521', 1600: '160016001600', 1681: '168116811681', 1764: '176417641764'}\n"
     ]
    }
   ],
   "source": [
    "# Создайте переменную, присвойте туда пустой словарь.\n",
    "# Выполните проход по списку с квадратами чисел, установите в ключ словаря число, \n",
    "# а в значение - строчку, состоящую из тройного повторения числа. \n",
    "# То есть будет словарь с подобным содержимым: {9: '999', 16: '161616', 25: '252525', 36: '363636', ...}.\n",
    "dict3 = {\n",
    "    i: str(i) * 3\n",
    "    for i in per3\n",
    "}\n",
    "print(dict3)"
   ]
  },
  {
   "cell_type": "code",
   "execution_count": 247,
   "id": "5a264054",
   "metadata": {},
   "outputs": [
    {
     "data": {
      "text/plain": [
       "[2, 3, 5, 15, 33, 5]"
      ]
     },
     "execution_count": 247,
     "metadata": {},
     "output_type": "execute_result"
    }
   ],
   "source": [
    "# Cоздайте функцию, которая принимает неограниченное число аргументов (чисел), и возвращает только простые числа \n",
    "# в виде списка (list)\n",
    "def my_func(*args):\n",
    "    lis = []\n",
    "    for i in args:\n",
    "        if i % 1 == 0:\n",
    "            lis.append(i)\n",
    "    return lis\n",
    "    \n",
    "\n",
    "\n",
    "my_func(2, 3, 5, 15 ,33, 5, 12.9)"
   ]
  },
  {
   "cell_type": "code",
   "execution_count": 265,
   "id": "d0a384cf",
   "metadata": {},
   "outputs": [],
   "source": [
    "# Создайте функцию, которая принимает в себя строчку и возвращает список (list) с уникальными символами\n",
    "# из этой строчки. Например, при вызове функцию с передачей аргументом строкой 'aabcdd' должно быть \n",
    "# возвращено ['a', 'b', 'c', 'd'] (порядок элементов не важен)\n",
    "s = 'aabbccdd22334345553454434'\n",
    "def my_func2(s):\n",
    "    set_s = set(s)\n",
    "    list_s = list(set_s)\n",
    "    return list_s"
   ]
  },
  {
   "cell_type": "code",
   "execution_count": 266,
   "id": "538a7ac7",
   "metadata": {},
   "outputs": [
    {
     "data": {
      "text/plain": [
       "['d', '3', 'b', '4', '5', '2', 'a', 'c']"
      ]
     },
     "execution_count": 266,
     "metadata": {},
     "output_type": "execute_result"
    }
   ],
   "source": [
    "my_func2(s)"
   ]
  },
  {
   "cell_type": "code",
   "execution_count": null,
   "id": "e0b80c6e",
   "metadata": {},
   "outputs": [],
   "source": []
  }
 ],
 "metadata": {
  "kernelspec": {
   "display_name": "Python 3 (ipykernel)",
   "language": "python",
   "name": "python3"
  },
  "language_info": {
   "codemirror_mode": {
    "name": "ipython",
    "version": 3
   },
   "file_extension": ".py",
   "mimetype": "text/x-python",
   "name": "python",
   "nbconvert_exporter": "python",
   "pygments_lexer": "ipython3",
   "version": "3.10.6"
  }
 },
 "nbformat": 4,
 "nbformat_minor": 5
}
