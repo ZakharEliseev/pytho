{
 "cells": [
  {
   "cell_type": "code",
   "execution_count": 1,
   "id": "9679566d",
   "metadata": {},
   "outputs": [
    {
     "name": "stdout",
     "output_type": "stream",
     "text": [
      "[1, 2, 3]\n",
      "1 2 3\n",
      "1 2 3\n"
     ]
    }
   ],
   "source": [
    "my_list = [1, 2 ,3]\n",
    "print(my_list)\n",
    "print(*my_list) # передача аргументов по одному, а не целым списком\n",
    "print(1, 2, 3)"
   ]
  },
  {
   "cell_type": "code",
   "execution_count": 2,
   "id": "9cf3a55f",
   "metadata": {},
   "outputs": [],
   "source": [
    "#'Один: {} два: {}, три:{}'.format(my_list)"
   ]
  },
  {
   "cell_type": "code",
   "execution_count": 3,
   "id": "f4809127",
   "metadata": {},
   "outputs": [
    {
     "data": {
      "text/plain": [
       "'Один: 1 два:2, три:3'"
      ]
     },
     "execution_count": 3,
     "metadata": {},
     "output_type": "execute_result"
    }
   ],
   "source": [
    "'Один: {} два:{}, три:{}'.format(*my_list)"
   ]
  },
  {
   "cell_type": "code",
   "execution_count": 4,
   "id": "fd4fbecc",
   "metadata": {},
   "outputs": [
    {
     "data": {
      "text/plain": [
       "'Имя: Гвидо, язык: Python'"
      ]
     },
     "execution_count": 4,
     "metadata": {},
     "output_type": "execute_result"
    }
   ],
   "source": [
    "'Имя: {name}, язык: {lang}'.format(name='Гвидо', lang='Python')"
   ]
  },
  {
   "cell_type": "code",
   "execution_count": 5,
   "id": "c7498566",
   "metadata": {},
   "outputs": [],
   "source": [
    "my_dict = dict(name='Гвидо', lang='Python')"
   ]
  },
  {
   "cell_type": "code",
   "execution_count": 6,
   "id": "7a2da4e2",
   "metadata": {},
   "outputs": [
    {
     "data": {
      "text/plain": [
       "{'name': 'Гвидо', 'lang': 'Python'}"
      ]
     },
     "execution_count": 6,
     "metadata": {},
     "output_type": "execute_result"
    }
   ],
   "source": [
    "my_dict"
   ]
  },
  {
   "cell_type": "code",
   "execution_count": 7,
   "id": "54ba1102",
   "metadata": {},
   "outputs": [
    {
     "data": {
      "text/plain": [
       "'Имя: Гвидо, язык: Python'"
      ]
     },
     "execution_count": 7,
     "metadata": {},
     "output_type": "execute_result"
    }
   ],
   "source": [
    "'Имя: {name}, язык: {lang}'.format(**my_dict)"
   ]
  },
  {
   "cell_type": "code",
   "execution_count": 8,
   "id": "abb23e21",
   "metadata": {},
   "outputs": [],
   "source": [
    "lang_auth = [{'name': 'Гвидо', 'lang': 'Python'}, {'name': 'Брайн', 'lang': 'C'}]"
   ]
  },
  {
   "cell_type": "code",
   "execution_count": 9,
   "id": "10b12540",
   "metadata": {},
   "outputs": [
    {
     "name": "stdout",
     "output_type": "stream",
     "text": [
      "Имя: Гвидо, язык: Python\n",
      "Имя: Брайн, язык: C\n"
     ]
    }
   ],
   "source": [
    "for auth in lang_auth:\n",
    "    print( 'Имя: {name}, язык: {lang}'.format(**auth))"
   ]
  },
  {
   "cell_type": "code",
   "execution_count": 10,
   "id": "8cba3035",
   "metadata": {},
   "outputs": [],
   "source": [
    "def lang_info(auth, lang, *versions):\n",
    "    print(f'Имя: {auth}, язык: {lang}')\n",
    "    print(versions)"
   ]
  },
  {
   "cell_type": "code",
   "execution_count": 11,
   "id": "b4923bfe",
   "metadata": {},
   "outputs": [
    {
     "name": "stdout",
     "output_type": "stream",
     "text": [
      "Имя: Гвидо, язык: Python\n",
      "(2, 3)\n"
     ]
    }
   ],
   "source": [
    "lang_info('Гвидо', 'Python', 2, 3)"
   ]
  },
  {
   "cell_type": "code",
   "execution_count": 12,
   "id": "57607c33",
   "metadata": {},
   "outputs": [],
   "source": [
    "def lang_info(auth, lang, *args):\n",
    "    print(f'Имя: {auth}, язык: {lang}')\n",
    "    print('Версии: ', *args)"
   ]
  },
  {
   "cell_type": "code",
   "execution_count": 13,
   "id": "1b167baa",
   "metadata": {},
   "outputs": [
    {
     "name": "stdout",
     "output_type": "stream",
     "text": [
      "Имя: Гвидо, язык: Python\n",
      "Версии:  2 3 1\n"
     ]
    }
   ],
   "source": [
    "lang_info('Гвидо', 'Python', 2, 3, 1)"
   ]
  },
  {
   "cell_type": "code",
   "execution_count": 14,
   "id": "7479019a",
   "metadata": {},
   "outputs": [],
   "source": [
    "def lang_info2(auth, lang='Pythpn', **kwargs):\n",
    "    print(f'Имя: {auth}, язык: {lang}')\n",
    "    for key, value in kwargs.items():\n",
    "        print(f'key: {key}, value: {value}')"
   ]
  },
  {
   "cell_type": "code",
   "execution_count": 15,
   "id": "5b2fb3b3",
   "metadata": {},
   "outputs": [
    {
     "name": "stdout",
     "output_type": "stream",
     "text": [
      "Имя: Гвидо, язык: Python\n",
      "key: version, value: 3\n",
      "key: year, value: 2008\n"
     ]
    }
   ],
   "source": [
    "lang_info2('Гвидо', 'Python', version=3, year=2008)"
   ]
  },
  {
   "cell_type": "code",
   "execution_count": 16,
   "id": "39ab42b6",
   "metadata": {
    "scrolled": true
   },
   "outputs": [
    {
     "name": "stdout",
     "output_type": "stream",
     "text": [
      "Имя: Гвидо, язык: C++\n",
      "key: version, value: 20\n"
     ]
    }
   ],
   "source": [
    "additional_data = {'lang': 'C++', 'version': 20}\n",
    "lang_info2('Гвидо', **additional_data)"
   ]
  },
  {
   "cell_type": "code",
   "execution_count": null,
   "id": "012ea21e",
   "metadata": {},
   "outputs": [],
   "source": []
  },
  {
   "cell_type": "code",
   "execution_count": 17,
   "id": "5a75e18e",
   "metadata": {},
   "outputs": [
    {
     "name": "stdout",
     "output_type": "stream",
     "text": [
      "Имя: Гвидо, язык: C++\n",
      "key: version, value: 20\n"
     ]
    }
   ],
   "source": [
    "def lang_info2(auth, lang, **kwargs):\n",
    "    print(f'Имя: {auth}, язык: {lang}')\n",
    "    for key, value in kwargs.items():\n",
    "        print(f'key: {key}, value: {value}')\n",
    "\n",
    "lang_info2('Гвидо', **additional_data)"
   ]
  },
  {
   "cell_type": "code",
   "execution_count": 18,
   "id": "272c95b8",
   "metadata": {
    "scrolled": true
   },
   "outputs": [
    {
     "name": "stdout",
     "output_type": "stream",
     "text": [
      "Имя: Гвидо, язык: python\n",
      "key: lang, value: C++\n",
      "key: version, value: 20\n"
     ]
    }
   ],
   "source": [
    "def lang_info4(auth, lang, /, **kwargs):\n",
    "    print(f'Имя: {auth}, язык: {lang}')\n",
    "    for key, value in kwargs.items():\n",
    "        print(f'key: {key}, value: {value}')\n",
    "\n",
    "lang_info4('Гвидо', 'python', **additional_data)"
   ]
  },
  {
   "cell_type": "code",
   "execution_count": null,
   "id": "38789fc7",
   "metadata": {},
   "outputs": [],
   "source": []
  },
  {
   "cell_type": "code",
   "execution_count": 19,
   "id": "2c65004b",
   "metadata": {
    "scrolled": true
   },
   "outputs": [
    {
     "name": "stdout",
     "output_type": "stream",
     "text": [
      "Hello world\n"
     ]
    }
   ],
   "source": [
    "print(\"Hello world\")"
   ]
  },
  {
   "cell_type": "code",
   "execution_count": 20,
   "id": "fd8b3610",
   "metadata": {},
   "outputs": [],
   "source": [
    "def hello():\n",
    "    print('Hello')"
   ]
  },
  {
   "cell_type": "code",
   "execution_count": 21,
   "id": "45544c6e",
   "metadata": {
    "scrolled": true
   },
   "outputs": [
    {
     "data": {
      "text/plain": [
       "<function __main__.hello()>"
      ]
     },
     "execution_count": 21,
     "metadata": {},
     "output_type": "execute_result"
    }
   ],
   "source": [
    "hello"
   ]
  },
  {
   "cell_type": "code",
   "execution_count": 22,
   "id": "9e084648",
   "metadata": {},
   "outputs": [
    {
     "name": "stdout",
     "output_type": "stream",
     "text": [
      "Hello\n"
     ]
    }
   ],
   "source": [
    "hello()"
   ]
  },
  {
   "cell_type": "code",
   "execution_count": 23,
   "id": "86fe7b8b",
   "metadata": {},
   "outputs": [],
   "source": [
    "def power_number(number, power=2):\n",
    "    return number ** power"
   ]
  },
  {
   "cell_type": "code",
   "execution_count": 24,
   "id": "aee3a5ac",
   "metadata": {},
   "outputs": [
    {
     "data": {
      "text/plain": [
       "<function __main__.power_number(number, power=2)>"
      ]
     },
     "execution_count": 24,
     "metadata": {},
     "output_type": "execute_result"
    }
   ],
   "source": [
    "power_number"
   ]
  },
  {
   "cell_type": "code",
   "execution_count": 25,
   "id": "bc7f1147",
   "metadata": {},
   "outputs": [
    {
     "data": {
      "text/plain": [
       "9"
      ]
     },
     "execution_count": 25,
     "metadata": {},
     "output_type": "execute_result"
    }
   ],
   "source": [
    "power_number(3)"
   ]
  },
  {
   "cell_type": "code",
   "execution_count": 26,
   "id": "72eb5ed2",
   "metadata": {},
   "outputs": [
    {
     "name": "stdout",
     "output_type": "stream",
     "text": [
      "Hello\n",
      "None\n"
     ]
    }
   ],
   "source": [
    "print(hello())"
   ]
  },
  {
   "cell_type": "code",
   "execution_count": 27,
   "id": "41ecc18d",
   "metadata": {},
   "outputs": [
    {
     "data": {
      "text/plain": [
       "8"
      ]
     },
     "execution_count": 27,
     "metadata": {},
     "output_type": "execute_result"
    }
   ],
   "source": [
    "power_number(2, 3) # передача аргументов позиционно"
   ]
  },
  {
   "cell_type": "code",
   "execution_count": 28,
   "id": "aa1d1396",
   "metadata": {},
   "outputs": [
    {
     "data": {
      "text/plain": [
       "8"
      ]
     },
     "execution_count": 28,
     "metadata": {},
     "output_type": "execute_result"
    }
   ],
   "source": [
    "power_number(2, power=3) # передача позиционно и именованно"
   ]
  },
  {
   "cell_type": "code",
   "execution_count": 29,
   "id": "6f241a29",
   "metadata": {},
   "outputs": [
    {
     "data": {
      "text/plain": [
       "8"
      ]
     },
     "execution_count": 29,
     "metadata": {},
     "output_type": "execute_result"
    }
   ],
   "source": [
    "power_number(number=2, power=3) # передача именованно"
   ]
  },
  {
   "cell_type": "code",
   "execution_count": 30,
   "id": "ef75f17e",
   "metadata": {},
   "outputs": [
    {
     "data": {
      "text/plain": [
       "8"
      ]
     },
     "execution_count": 30,
     "metadata": {},
     "output_type": "execute_result"
    }
   ],
   "source": [
    "power_number(power=3, number =2) # при именованной передачи по имени результат будет правильный, \n",
    "                                 # даже при перестановке аргументов"
   ]
  },
  {
   "cell_type": "code",
   "execution_count": 31,
   "id": "f44c2cab",
   "metadata": {},
   "outputs": [],
   "source": [
    "def power_numbers(*numbers, power=2):\n",
    "    return[number ** power for number in numbers]"
   ]
  },
  {
   "cell_type": "code",
   "execution_count": 32,
   "id": "1fd42a0d",
   "metadata": {},
   "outputs": [
    {
     "data": {
      "text/plain": [
       "[1, 4, 9, 16, 25]"
      ]
     },
     "execution_count": 32,
     "metadata": {},
     "output_type": "execute_result"
    }
   ],
   "source": [
    "power_numbers(1,2,3,4,5)"
   ]
  },
  {
   "cell_type": "code",
   "execution_count": 33,
   "id": "89f04be2",
   "metadata": {},
   "outputs": [
    {
     "data": {
      "text/plain": [
       "[1, 8, 27, 64, 125]"
      ]
     },
     "execution_count": 33,
     "metadata": {},
     "output_type": "execute_result"
    }
   ],
   "source": [
    "power_numbers(1,2,3,4,5, power=3)"
   ]
  },
  {
   "cell_type": "code",
   "execution_count": 34,
   "id": "21bb5a0f",
   "metadata": {},
   "outputs": [
    {
     "data": {
      "text/plain": [
       "[1]"
      ]
     },
     "execution_count": 34,
     "metadata": {},
     "output_type": "execute_result"
    }
   ],
   "source": [
    "power_numbers(1, power=5)"
   ]
  },
  {
   "cell_type": "code",
   "execution_count": 35,
   "id": "59ee7316",
   "metadata": {},
   "outputs": [
    {
     "data": {
      "text/plain": [
       "[]"
      ]
     },
     "execution_count": 35,
     "metadata": {},
     "output_type": "execute_result"
    }
   ],
   "source": [
    "power_numbers( power=5)"
   ]
  },
  {
   "cell_type": "code",
   "execution_count": 36,
   "id": "9b6f417c",
   "metadata": {},
   "outputs": [
    {
     "data": {
      "text/plain": [
       "[]"
      ]
     },
     "execution_count": 36,
     "metadata": {},
     "output_type": "execute_result"
    }
   ],
   "source": [
    "power_numbers()"
   ]
  },
  {
   "cell_type": "code",
   "execution_count": 37,
   "id": "f1a82d40",
   "metadata": {},
   "outputs": [
    {
     "data": {
      "text/plain": [
       "[1, 25, 49]"
      ]
     },
     "execution_count": 37,
     "metadata": {},
     "output_type": "execute_result"
    }
   ],
   "source": [
    "power_numbers(1, 5, 7)"
   ]
  },
  {
   "cell_type": "code",
   "execution_count": 38,
   "id": "b0c220f1",
   "metadata": {},
   "outputs": [
    {
     "data": {
      "text/plain": [
       "[49]"
      ]
     },
     "execution_count": 38,
     "metadata": {},
     "output_type": "execute_result"
    }
   ],
   "source": [
    "power_numbers(7)"
   ]
  },
  {
   "cell_type": "code",
   "execution_count": 39,
   "id": "d5419ffc",
   "metadata": {},
   "outputs": [
    {
     "name": "stdout",
     "output_type": "stream",
     "text": [
      "[5, 7, 9]\n"
     ]
    }
   ],
   "source": [
    "numbers_list = [5, 7 ,9]\n",
    "print(numbers_list)"
   ]
  },
  {
   "cell_type": "code",
   "execution_count": 44,
   "id": "4fbcdcc4",
   "metadata": {},
   "outputs": [],
   "source": [
    "# power_numbers(numbers_list)"
   ]
  },
  {
   "cell_type": "code",
   "execution_count": 45,
   "id": "17dd27ac",
   "metadata": {},
   "outputs": [
    {
     "data": {
      "text/plain": [
       "[25, 49, 81]"
      ]
     },
     "execution_count": 45,
     "metadata": {},
     "output_type": "execute_result"
    }
   ],
   "source": [
    "power_numbers(*numbers_list)"
   ]
  },
  {
   "cell_type": "code",
   "execution_count": 47,
   "id": "4cac2321",
   "metadata": {},
   "outputs": [
    {
     "data": {
      "text/plain": [
       "[125, 343, 729]"
      ]
     },
     "execution_count": 47,
     "metadata": {},
     "output_type": "execute_result"
    }
   ],
   "source": [
    "power_numbers(*numbers_list, power=3)"
   ]
  },
  {
   "cell_type": "code",
   "execution_count": 46,
   "id": "0309dd89",
   "metadata": {},
   "outputs": [
    {
     "data": {
      "text/plain": [
       "<function __main__.power_number(number, power=2)>"
      ]
     },
     "execution_count": 46,
     "metadata": {},
     "output_type": "execute_result"
    }
   ],
   "source": [
    "power_number"
   ]
  },
  {
   "cell_type": "code",
   "execution_count": 48,
   "id": "75611251",
   "metadata": {},
   "outputs": [
    {
     "name": "stdout",
     "output_type": "stream",
     "text": [
      "(4, 3)\n"
     ]
    }
   ],
   "source": [
    "number_and_pow = 4, 3\n",
    "print(number_and_pow)"
   ]
  },
  {
   "cell_type": "code",
   "execution_count": 49,
   "id": "a53fc55d",
   "metadata": {},
   "outputs": [
    {
     "data": {
      "text/plain": [
       "64"
      ]
     },
     "execution_count": 49,
     "metadata": {},
     "output_type": "execute_result"
    }
   ],
   "source": [
    "power_number(*number_and_pow)"
   ]
  },
  {
   "cell_type": "code",
   "execution_count": 50,
   "id": "1826a072",
   "metadata": {},
   "outputs": [
    {
     "name": "stdout",
     "output_type": "stream",
     "text": [
      "a =  5 b =  7 c =  9\n"
     ]
    }
   ],
   "source": [
    "num_list = [5 ,7 ,9]\n",
    "a, b ,c = num_list\n",
    "print('a = ',a ,'b = ', b ,'c = ',c )"
   ]
  },
  {
   "cell_type": "code",
   "execution_count": 51,
   "id": "8f3bf670",
   "metadata": {},
   "outputs": [
    {
     "name": "stdout",
     "output_type": "stream",
     "text": [
      "{'number': 3, 'power': 2}\n"
     ]
    }
   ],
   "source": [
    "params = {\n",
    "    'number':3,\n",
    "    'power':2,\n",
    "}\n",
    "print(params)"
   ]
  },
  {
   "cell_type": "code",
   "execution_count": 52,
   "id": "a31b7dca",
   "metadata": {},
   "outputs": [
    {
     "data": {
      "text/plain": [
       "{'number': 4, 'power': 2}"
      ]
     },
     "execution_count": 52,
     "metadata": {},
     "output_type": "execute_result"
    }
   ],
   "source": [
    "params['number'] = 4\n",
    "params"
   ]
  },
  {
   "cell_type": "code",
   "execution_count": 53,
   "id": "6806000f",
   "metadata": {},
   "outputs": [
    {
     "data": {
      "text/plain": [
       "16"
      ]
     },
     "execution_count": 53,
     "metadata": {},
     "output_type": "execute_result"
    }
   ],
   "source": [
    "power_number(**params)"
   ]
  },
  {
   "cell_type": "code",
   "execution_count": 54,
   "id": "be19553e",
   "metadata": {},
   "outputs": [
    {
     "data": {
      "text/plain": [
       "<function __main__.power_number(number, power=2)>"
      ]
     },
     "execution_count": 54,
     "metadata": {},
     "output_type": "execute_result"
    }
   ],
   "source": [
    "power_number"
   ]
  },
  {
   "cell_type": "code",
   "execution_count": 56,
   "id": "b2779cbc",
   "metadata": {},
   "outputs": [
    {
     "data": {
      "text/plain": [
       "256"
      ]
     },
     "execution_count": 56,
     "metadata": {},
     "output_type": "execute_result"
    }
   ],
   "source": [
    "params['power'] = 4\n",
    "power_number(**params)"
   ]
  },
  {
   "cell_type": "code",
   "execution_count": 57,
   "id": "e993c9f1",
   "metadata": {},
   "outputs": [
    {
     "data": {
      "text/plain": [
       "{'number': 4, 'power': 4}"
      ]
     },
     "execution_count": 57,
     "metadata": {},
     "output_type": "execute_result"
    }
   ],
   "source": [
    "params"
   ]
  },
  {
   "cell_type": "code",
   "execution_count": 58,
   "id": "ba74a71e",
   "metadata": {},
   "outputs": [
    {
     "data": {
      "text/plain": [
       "4"
      ]
     },
     "execution_count": 58,
     "metadata": {},
     "output_type": "execute_result"
    }
   ],
   "source": [
    "params.pop('power')"
   ]
  },
  {
   "cell_type": "code",
   "execution_count": 59,
   "id": "14054c9f",
   "metadata": {},
   "outputs": [
    {
     "data": {
      "text/plain": [
       "{'number': 4}"
      ]
     },
     "execution_count": 59,
     "metadata": {},
     "output_type": "execute_result"
    }
   ],
   "source": [
    "params"
   ]
  },
  {
   "cell_type": "code",
   "execution_count": 60,
   "id": "63f74a01",
   "metadata": {},
   "outputs": [
    {
     "data": {
      "text/plain": [
       "16"
      ]
     },
     "execution_count": 60,
     "metadata": {},
     "output_type": "execute_result"
    }
   ],
   "source": [
    "power_number(**params)"
   ]
  },
  {
   "cell_type": "code",
   "execution_count": 61,
   "id": "d42f19c5",
   "metadata": {},
   "outputs": [
    {
     "data": {
      "text/plain": [
       "<function __main__.power_number(number, power=2)>"
      ]
     },
     "execution_count": 61,
     "metadata": {},
     "output_type": "execute_result"
    }
   ],
   "source": [
    "power_number"
   ]
  },
  {
   "cell_type": "code",
   "execution_count": 71,
   "id": "e15214bc",
   "metadata": {},
   "outputs": [
    {
     "data": {
      "text/plain": [
       "{'single': 4, 'many': [4, 16, 36]}"
      ]
     },
     "execution_count": 71,
     "metadata": {},
     "output_type": "execute_result"
    }
   ],
   "source": [
    "power_functions = {\n",
    "    'single' : power_number(2),\n",
    "    'many' : power_numbers(2, 4, 6),\n",
    "}\n",
    "power_functions"
   ]
  },
  {
   "cell_type": "code",
   "execution_count": 70,
   "id": "677dc97d",
   "metadata": {},
   "outputs": [
    {
     "data": {
      "text/plain": [
       "{'single': <function __main__.power_number(number, power=2)>,\n",
       " 'many': <function __main__.power_numbers(*numbers, power=2)>}"
      ]
     },
     "execution_count": 70,
     "metadata": {},
     "output_type": "execute_result"
    }
   ],
   "source": [
    "power_functions = {\n",
    "    'single' : power_number,\n",
    "    'many' : power_numbers,\n",
    "}\n",
    "power_functions"
   ]
  },
  {
   "cell_type": "code",
   "execution_count": 82,
   "id": "1d926943",
   "metadata": {},
   "outputs": [],
   "source": [
    "def accept_any_kwargs(**kwargs):\n",
    "    print('got kwargs', kwargs, '     show them ine by one:')\n",
    "    for key, value in kwargs.items():\n",
    "        print('key:', key, ',', 'value:', value)"
   ]
  },
  {
   "cell_type": "code",
   "execution_count": 83,
   "id": "58ae6523",
   "metadata": {},
   "outputs": [
    {
     "name": "stdout",
     "output_type": "stream",
     "text": [
      "got kwargs {'foo': 'bar', 'spam': 'eggs', 'fizz': 'buzz', 'abc': 123, 'qwe': None, 't': (1, 2), 'l': [4, 5]}      show them ine by one:\n",
      "key: foo , value: bar\n",
      "key: spam , value: eggs\n",
      "key: fizz , value: buzz\n",
      "key: abc , value: 123\n",
      "key: qwe , value: None\n",
      "key: t , value: (1, 2)\n",
      "key: l , value: [4, 5]\n"
     ]
    }
   ],
   "source": [
    "accept_any_kwargs(foo='bar', spam='eggs', fizz='buzz', abc=123, qwe=None, t=(1,2), l=[4,5])"
   ]
  },
  {
   "cell_type": "code",
   "execution_count": 84,
   "id": "f9b2ca94",
   "metadata": {},
   "outputs": [
    {
     "name": "stdout",
     "output_type": "stream",
     "text": [
      "got kwargs {}      show them ine by one:\n"
     ]
    }
   ],
   "source": [
    "accept_any_kwargs()"
   ]
  },
  {
   "cell_type": "code",
   "execution_count": null,
   "id": "4f57db87",
   "metadata": {},
   "outputs": [],
   "source": [
    "accept_any_kwargs(foo='bar')"
   ]
  },
  {
   "cell_type": "code",
   "execution_count": 86,
   "id": "0b875fe3",
   "metadata": {},
   "outputs": [],
   "source": [
    "def find_by_keys(*keys, **kwargs):\n",
    "    print('find values for keys', keys, 'in kwargs', kwargs)\n",
    "    for key, value in kwargs.items():\n",
    "        if key in keys:\n",
    "            print('key: ', key, 'value:', value)"
   ]
  },
  {
   "cell_type": "code",
   "execution_count": 87,
   "id": "1c293fb5",
   "metadata": {},
   "outputs": [
    {
     "name": "stdout",
     "output_type": "stream",
     "text": [
      "find values for keys () in kwargs {}\n"
     ]
    }
   ],
   "source": [
    "find_by_keys()"
   ]
  },
  {
   "cell_type": "code",
   "execution_count": 88,
   "id": "290f2ef1",
   "metadata": {},
   "outputs": [
    {
     "name": "stdout",
     "output_type": "stream",
     "text": [
      "find values for keys ('foo', 'bar') in kwargs {'spam': 'eggs', 'fizz': 'buzz'}\n"
     ]
    }
   ],
   "source": [
    "find_by_keys('foo', 'bar', spam='eggs', fizz='buzz')"
   ]
  },
  {
   "cell_type": "code",
   "execution_count": 89,
   "id": "23a6c377",
   "metadata": {},
   "outputs": [
    {
     "name": "stdout",
     "output_type": "stream",
     "text": [
      "find values for keys ('spam', 'bar') in kwargs {'spam': 'eggs', 'fizz': 'buzz'}\n",
      "key:  spam value: eggs\n"
     ]
    }
   ],
   "source": [
    "find_by_keys('spam', 'bar', spam='eggs', fizz='buzz')"
   ]
  },
  {
   "cell_type": "code",
   "execution_count": 90,
   "id": "35d6d560",
   "metadata": {},
   "outputs": [
    {
     "name": "stdout",
     "output_type": "stream",
     "text": [
      "find values for keys ('spam', 'fizz') in kwargs {'spam': 'eggs', 'fizz': 'buzz', 'qwe': 123}\n",
      "key:  spam value: eggs\n",
      "key:  fizz value: buzz\n"
     ]
    }
   ],
   "source": [
    "find_by_keys('spam', 'fizz', spam='eggs', fizz='buzz', qwe=123)"
   ]
  },
  {
   "cell_type": "code",
   "execution_count": 91,
   "id": "19dd013c",
   "metadata": {},
   "outputs": [
    {
     "data": {
      "text/plain": [
       "<function __main__.find_by_keys(*keys, **kwargs)>"
      ]
     },
     "execution_count": 91,
     "metadata": {},
     "output_type": "execute_result"
    }
   ],
   "source": [
    "find_by_keys"
   ]
  },
  {
   "cell_type": "code",
   "execution_count": 92,
   "id": "18c8d6f4",
   "metadata": {},
   "outputs": [
    {
     "name": "stdout",
     "output_type": "stream",
     "text": [
      "[1, None, 'spam']\n",
      "{'foo': 'bar', 'spam': ['spam', 'eggs'], 'qwe': 123, 'fizz': 'buzz'}\n"
     ]
    }
   ],
   "source": [
    "some_keys= [1, None, 'spam']\n",
    "some_data = {\n",
    "    'foo':'bar',\n",
    "    'spam':['spam','eggs'],\n",
    "    'qwe':123,\n",
    "    'fizz':'buzz',   \n",
    "}\n",
    "print(some_keys)\n",
    "print(some_data)"
   ]
  },
  {
   "cell_type": "code",
   "execution_count": 93,
   "id": "6a730699",
   "metadata": {},
   "outputs": [
    {
     "name": "stdout",
     "output_type": "stream",
     "text": [
      "[1, None, 'spam']\n",
      "{'foo': 'bar', 'spam': ['spam', 'eggs'], 'qwe': 123, 'fizz': 'buzz'}\n"
     ]
    }
   ],
   "source": [
    "print(some_keys)\n",
    "print(some_data)"
   ]
  },
  {
   "cell_type": "code",
   "execution_count": 94,
   "id": "2845602a",
   "metadata": {},
   "outputs": [
    {
     "name": "stdout",
     "output_type": "stream",
     "text": [
      "find values for keys (1, None, 'spam') in kwargs {'foo': 'bar', 'spam': ['spam', 'eggs'], 'qwe': 123, 'fizz': 'buzz'}\n",
      "key:  spam value: ['spam', 'eggs']\n"
     ]
    }
   ],
   "source": [
    "find_by_keys(*some_keys, **some_data)"
   ]
  },
  {
   "cell_type": "code",
   "execution_count": 95,
   "id": "1fa30ba6",
   "metadata": {},
   "outputs": [
    {
     "name": "stdout",
     "output_type": "stream",
     "text": [
      "find values for keys (1, None, 'spam', 'fizz') in kwargs {'foo': 'bar', 'spam': ['spam', 'eggs'], 'qwe': 123, 'fizz': 'buzz'}\n",
      "key:  spam value: ['spam', 'eggs']\n",
      "key:  fizz value: buzz\n"
     ]
    }
   ],
   "source": [
    "find_by_keys(*some_keys, 'fizz', **some_data)"
   ]
  },
  {
   "cell_type": "code",
   "execution_count": 96,
   "id": "9b439f62",
   "metadata": {},
   "outputs": [
    {
     "name": "stdout",
     "output_type": "stream",
     "text": [
      "find values for keys ('foo', 'spam', 'qwe', 'fizz') in kwargs {'foo': 'bar', 'spam': ['spam', 'eggs'], 'qwe': 123, 'fizz': 'buzz'}\n",
      "key:  foo value: bar\n",
      "key:  spam value: ['spam', 'eggs']\n",
      "key:  qwe value: 123\n",
      "key:  fizz value: buzz\n"
     ]
    }
   ],
   "source": [
    "find_by_keys(*some_data, **some_data)"
   ]
  },
  {
   "cell_type": "code",
   "execution_count": 98,
   "id": "63ade4ea",
   "metadata": {},
   "outputs": [
    {
     "data": {
      "text/plain": [
       "(1, 2, 3)"
      ]
     },
     "execution_count": 98,
     "metadata": {},
     "output_type": "execute_result"
    }
   ],
   "source": [
    "(1, 2, 3)"
   ]
  },
  {
   "cell_type": "code",
   "execution_count": null,
   "id": "44c73901",
   "metadata": {},
   "outputs": [],
   "source": [
    "some_keys"
   ]
  },
  {
   "cell_type": "code",
   "execution_count": null,
   "id": "0486cffe",
   "metadata": {},
   "outputs": [],
   "source": [
    "t = (1, 2 ,3)\n",
    "t"
   ]
  },
  {
   "cell_type": "code",
   "execution_count": null,
   "id": "7ec0f925",
   "metadata": {},
   "outputs": [],
   "source": [
    "some_keys.pop(0)\n",
    "some_keys"
   ]
  },
  {
   "cell_type": "code",
   "execution_count": null,
   "id": "4e889854",
   "metadata": {},
   "outputs": [],
   "source": [
    "some_keys.append('5')\n",
    "some_keys.append(4)"
   ]
  },
  {
   "cell_type": "code",
   "execution_count": null,
   "id": "5532f802",
   "metadata": {},
   "outputs": [],
   "source": [
    "some_keys"
   ]
  },
  {
   "cell_type": "code",
   "execution_count": null,
   "id": "d791820b",
   "metadata": {},
   "outputs": [],
   "source": [
    "a, b = 4, 5\n",
    "print(a)\n",
    "print(b)"
   ]
  },
  {
   "cell_type": "code",
   "execution_count": null,
   "id": "ee06fd0a",
   "metadata": {},
   "outputs": [],
   "source": [
    "t = 5 ,6\n",
    "t"
   ]
  },
  {
   "cell_type": "code",
   "execution_count": 99,
   "id": "2fb62787",
   "metadata": {},
   "outputs": [],
   "source": [
    "def my_functions():\n",
    "    print('Старт моей функции')"
   ]
  },
  {
   "cell_type": "code",
   "execution_count": 100,
   "id": "8f061c6b",
   "metadata": {},
   "outputs": [
    {
     "data": {
      "text/plain": [
       "<function __main__.my_functions()>"
      ]
     },
     "execution_count": 100,
     "metadata": {},
     "output_type": "execute_result"
    }
   ],
   "source": [
    "my_functions"
   ]
  },
  {
   "cell_type": "code",
   "execution_count": 101,
   "id": "95220ff1",
   "metadata": {},
   "outputs": [],
   "source": [
    "def my_decorator(func_to_decorate):\n",
    "    print(\"Создание новой функции\")\n",
    "    \n",
    "    def replacement_function():\n",
    "        print('выполнение заменяющей функции, старт оригинальной функции')\n",
    "        func_to_decorate()\n",
    "        print('завершение запущенной оригинальной функции, заменяющей тоже')\n",
    "        \n",
    "    print('Создана новая заменяющая функции')\n",
    "    \n",
    "    return replacement_function"
   ]
  },
  {
   "cell_type": "code",
   "execution_count": 102,
   "id": "dc409c54",
   "metadata": {},
   "outputs": [
    {
     "data": {
      "text/plain": [
       "<function __main__.my_decorator(func_to_decorate)>"
      ]
     },
     "execution_count": 102,
     "metadata": {},
     "output_type": "execute_result"
    }
   ],
   "source": [
    "my_decorator"
   ]
  },
  {
   "cell_type": "code",
   "execution_count": 103,
   "id": "2c714442",
   "metadata": {},
   "outputs": [
    {
     "name": "stdout",
     "output_type": "stream",
     "text": [
      "Создание новой функции\n",
      "Создана новая заменяющая функции\n"
     ]
    }
   ],
   "source": [
    "my_functions = my_decorator(my_functions)"
   ]
  },
  {
   "cell_type": "code",
   "execution_count": 104,
   "id": "f29d98dc",
   "metadata": {},
   "outputs": [
    {
     "name": "stdout",
     "output_type": "stream",
     "text": [
      "выполнение заменяющей функции, старт оригинальной функции\n",
      "Старт моей функции\n",
      "завершение запущенной оригинальной функции, заменяющей тоже\n"
     ]
    }
   ],
   "source": [
    "my_functions()"
   ]
  },
  {
   "cell_type": "code",
   "execution_count": 105,
   "id": "42bf5639",
   "metadata": {},
   "outputs": [
    {
     "name": "stdout",
     "output_type": "stream",
     "text": [
      "Создание новой функции\n",
      "Создана новая заменяющая функции\n"
     ]
    }
   ],
   "source": [
    "@my_decorator\n",
    "def small_function():\n",
    "    print(\"i'am a small function\")"
   ]
  },
  {
   "cell_type": "code",
   "execution_count": 106,
   "id": "b55e6fa2",
   "metadata": {},
   "outputs": [
    {
     "name": "stdout",
     "output_type": "stream",
     "text": [
      "<function my_decorator.<locals>.replacement_function at 0x7f72daea8160>\n"
     ]
    }
   ],
   "source": [
    "print(small_function)"
   ]
  },
  {
   "cell_type": "code",
   "execution_count": 109,
   "id": "20abd93e",
   "metadata": {},
   "outputs": [
    {
     "name": "stdout",
     "output_type": "stream",
     "text": [
      "<function my_decorator.<locals>.replacement_function at 0x7f72daea8550>\n"
     ]
    }
   ],
   "source": [
    "print(my_functions)"
   ]
  },
  {
   "cell_type": "code",
   "execution_count": 107,
   "id": "78f87bd8",
   "metadata": {},
   "outputs": [
    {
     "name": "stdout",
     "output_type": "stream",
     "text": [
      "выполнение заменяющей функции, старт оригинальной функции\n",
      "Старт моей функции\n",
      "завершение запущенной оригинальной функции, заменяющей тоже\n"
     ]
    }
   ],
   "source": [
    "my_functions()"
   ]
  },
  {
   "cell_type": "code",
   "execution_count": 108,
   "id": "ba01400b",
   "metadata": {},
   "outputs": [
    {
     "name": "stdout",
     "output_type": "stream",
     "text": [
      "выполнение заменяющей функции, старт оригинальной функции\n",
      "i'am a small function\n",
      "завершение запущенной оригинальной функции, заменяющей тоже\n"
     ]
    }
   ],
   "source": [
    "small_function()"
   ]
  },
  {
   "cell_type": "code",
   "execution_count": 114,
   "id": "e7269fdb",
   "metadata": {},
   "outputs": [],
   "source": [
    " from functools import wraps"
   ]
  },
  {
   "cell_type": "code",
   "execution_count": 115,
   "id": "1f0e85e1",
   "metadata": {},
   "outputs": [],
   "source": [
    "def my_dec(func):\n",
    "    \n",
    "    @wraps(func)\n",
    "    def wrapper():\n",
    "        print('call func', func)\n",
    "        func()\n",
    "        print('finish wrapper')\n",
    "        \n",
    "    return wrapper"
   ]
  },
  {
   "cell_type": "code",
   "execution_count": 116,
   "id": "39cb8065",
   "metadata": {},
   "outputs": [],
   "source": [
    "@my_dec\n",
    "def some_func():\n",
    "    print('some func is called')"
   ]
  },
  {
   "cell_type": "code",
   "execution_count": 117,
   "id": "01eef514",
   "metadata": {},
   "outputs": [
    {
     "data": {
      "text/plain": [
       "<function __main__.some_func()>"
      ]
     },
     "execution_count": 117,
     "metadata": {},
     "output_type": "execute_result"
    }
   ],
   "source": [
    "some_func"
   ]
  },
  {
   "cell_type": "code",
   "execution_count": 119,
   "id": "2b08c988",
   "metadata": {},
   "outputs": [
    {
     "name": "stdout",
     "output_type": "stream",
     "text": [
      "call func <function some_func at 0x7f72daea8790>\n",
      "some func is called\n",
      "finish wrapper\n"
     ]
    }
   ],
   "source": [
    "some_func()"
   ]
  },
  {
   "cell_type": "code",
   "execution_count": 118,
   "id": "3551f2c3",
   "metadata": {},
   "outputs": [
    {
     "name": "stdout",
     "output_type": "stream",
     "text": [
      "<function some_func at 0x7f72daeaa3b0>\n"
     ]
    }
   ],
   "source": [
    "print(some_func)"
   ]
  },
  {
   "cell_type": "code",
   "execution_count": 133,
   "id": "a266dcca",
   "metadata": {},
   "outputs": [],
   "source": [
    "def dec_witch_one_arg(func):\n",
    "    @wraps(func)\n",
    "    def wrapper(arg):\n",
    "        print('call func', func, 'with arg', arg)\n",
    "        result = func(arg)\n",
    "        print('result: ', result)\n",
    "        return result\n",
    "    return wrapper"
   ]
  },
  {
   "cell_type": "code",
   "execution_count": 134,
   "id": "7e74b59d",
   "metadata": {},
   "outputs": [],
   "source": [
    "@dec_witch_one_arg\n",
    "def cube(num):\n",
    "    return num ** 3"
   ]
  },
  {
   "cell_type": "code",
   "execution_count": 135,
   "id": "9a2ee589",
   "metadata": {},
   "outputs": [
    {
     "data": {
      "text/plain": [
       "<function __main__.cube(num)>"
      ]
     },
     "execution_count": 135,
     "metadata": {},
     "output_type": "execute_result"
    }
   ],
   "source": [
    "cube"
   ]
  },
  {
   "cell_type": "code",
   "execution_count": 136,
   "id": "5b8f67aa",
   "metadata": {},
   "outputs": [
    {
     "name": "stdout",
     "output_type": "stream",
     "text": [
      "call func <function cube at 0x7f72daeaaef0> with arg 3\n",
      "result:  27\n"
     ]
    },
    {
     "data": {
      "text/plain": [
       "27"
      ]
     },
     "execution_count": 136,
     "metadata": {},
     "output_type": "execute_result"
    }
   ],
   "source": [
    "cube(3)"
   ]
  },
  {
   "cell_type": "code",
   "execution_count": 137,
   "id": "8d11008c",
   "metadata": {},
   "outputs": [],
   "source": [
    "from timeit import default_timer"
   ]
  },
  {
   "cell_type": "code",
   "execution_count": 138,
   "id": "3206ea7b",
   "metadata": {},
   "outputs": [
    {
     "data": {
      "text/plain": [
       "<function time.perf_counter>"
      ]
     },
     "execution_count": 138,
     "metadata": {},
     "output_type": "execute_result"
    }
   ],
   "source": [
    "default_timer"
   ]
  },
  {
   "cell_type": "code",
   "execution_count": 141,
   "id": "db71cd69",
   "metadata": {},
   "outputs": [
    {
     "data": {
      "text/plain": [
       "24920.920168557"
      ]
     },
     "execution_count": 141,
     "metadata": {},
     "output_type": "execute_result"
    }
   ],
   "source": [
    "default_timer()"
   ]
  },
  {
   "cell_type": "code",
   "execution_count": 153,
   "id": "738fa647",
   "metadata": {},
   "outputs": [],
   "source": [
    "def show_timing(func):\n",
    "    @wraps(func)\n",
    "    def wrapper(*args, **kwargs):\n",
    "        start_time = default_timer\n",
    "        result = func(*args, **kwargs)\n",
    "        total_time = default_timer() - start_time()\n",
    "        \n",
    "        print('executed func', func, 'in{:.10f}s'.format(total_time), 'and got', result)\n",
    "        return result\n",
    "    return wrapper"
   ]
  },
  {
   "cell_type": "code",
   "execution_count": 200,
   "id": "61092ab5",
   "metadata": {},
   "outputs": [],
   "source": [
    "from functools import lru_cache\n",
    "@lru_cache\n",
    "@show_timing\n",
    "def power_nums(*nums, power =2):\n",
    "    return [num ** power for num in nums]"
   ]
  },
  {
   "cell_type": "code",
   "execution_count": null,
   "id": "e44c2814",
   "metadata": {},
   "outputs": [],
   "source": [
    "power_nums(1, 2 ,3, power=10000000)"
   ]
  },
  {
   "cell_type": "code",
   "execution_count": 170,
   "id": "55358be5",
   "metadata": {},
   "outputs": [],
   "source": [
    "@show_timing\n",
    "def fib(n):\n",
    "    if n < 2:\n",
    "        return n\n",
    "    return fib(n - 1) + fib(n - 2)"
   ]
  },
  {
   "cell_type": "code",
   "execution_count": 178,
   "id": "8da404e4",
   "metadata": {},
   "outputs": [
    {
     "name": "stdout",
     "output_type": "stream",
     "text": [
      "executed func <function fib at 0x7f72da89edd0> in-0.0000005430s and got 1\n",
      "executed func <function fib at 0x7f72da89edd0> in-0.0000001720s and got 0\n",
      "executed func <function fib at 0x7f72da89edd0> in-0.0000002160s and got 1\n"
     ]
    },
    {
     "data": {
      "text/plain": [
       "1"
      ]
     },
     "execution_count": 178,
     "metadata": {},
     "output_type": "execute_result"
    }
   ],
   "source": [
    "fib(2)"
   ]
  },
  {
   "cell_type": "code",
   "execution_count": null,
   "id": "e31199fa",
   "metadata": {},
   "outputs": [],
   "source": [
    "fib(10)"
   ]
  },
  {
   "cell_type": "code",
   "execution_count": null,
   "id": "8c478ed0",
   "metadata": {},
   "outputs": [],
   "source": [
    "from functools import lru_cache"
   ]
  },
  {
   "cell_type": "code",
   "execution_count": null,
   "id": "080e7be8",
   "metadata": {},
   "outputs": [],
   "source": [
    "@show_timing\n",
    "@lru_cache\n",
    "def fib(n):\n",
    "    if n < 2:\n",
    "        return n\n",
    "    return fib(n - 1) + fib(n - 2)"
   ]
  },
  {
   "cell_type": "code",
   "execution_count": null,
   "id": "48ccc02a",
   "metadata": {},
   "outputs": [],
   "source": [
    "fib(5)"
   ]
  },
  {
   "cell_type": "code",
   "execution_count": null,
   "id": "a7ac635e",
   "metadata": {},
   "outputs": [],
   "source": [
    "@show_timing\n",
    "@lru_cache\n",
    "def fib(n):\n",
    "    if n < 2:\n",
    "        return n\n",
    "    return fib(n - 1) + fib(n - 2)"
   ]
  },
  {
   "cell_type": "code",
   "execution_count": null,
   "id": "b9aceab4",
   "metadata": {},
   "outputs": [],
   "source": [
    "fib(5)"
   ]
  },
  {
   "cell_type": "code",
   "execution_count": null,
   "id": "f2dd4657",
   "metadata": {},
   "outputs": [],
   "source": [
    "@lru_cache\n",
    "@show_timing\n",
    "def fib(n):\n",
    "    if n < 2:\n",
    "        return n\n",
    "    return fib(n - 1) + fib(n - 2)"
   ]
  },
  {
   "cell_type": "code",
   "execution_count": null,
   "id": "85fd9984",
   "metadata": {},
   "outputs": [],
   "source": [
    "fib(10)"
   ]
  },
  {
   "cell_type": "code",
   "execution_count": null,
   "id": "d7fdf8a9",
   "metadata": {},
   "outputs": [],
   "source": [
    "fib(10)"
   ]
  },
  {
   "cell_type": "code",
   "execution_count": null,
   "id": "e515b3c9",
   "metadata": {},
   "outputs": [],
   "source": [
    "def a_decorator_passing_arguments(function_to_decorate):\n",
    "    def a_wrapper_accepting_arguments(arg1, arg2):\n",
    "        print(\"Смотри, что я получил:\", arg1, arg2)\n",
    "        function_to_decorate(arg1, arg2)\n",
    "    return a_wrapper_accepting_arguments\n",
    "\n",
    "# Теперь, когда мы вызываем функцию, которую возвращает декоратор, мы вызываем её \"обёртку\",\n",
    "# передаём ей аргументы и уже в свою очередь она передаёт их декорируемой функции\n",
    "@a_decorator_passing_arguments\n",
    "def print_full_name(first_name, last_name):\n",
    "    print(\"Меня зовут\", first_name, last_name)\n",
    "\n",
    "print_full_name(\"Vasya\", \"Pupkin\")"
   ]
  },
  {
   "cell_type": "code",
   "execution_count": null,
   "id": "2bdabf41",
   "metadata": {},
   "outputs": [],
   "source": [
    "def my_function():\n",
    "    print(\"простая функция выполняется\")"
   ]
  },
  {
   "cell_type": "code",
   "execution_count": null,
   "id": "69b0045b",
   "metadata": {},
   "outputs": [],
   "source": [
    "my_function()"
   ]
  },
  {
   "cell_type": "code",
   "execution_count": null,
   "id": "d7a0e83e",
   "metadata": {},
   "outputs": [],
   "source": [
    "my_function"
   ]
  },
  {
   "cell_type": "code",
   "execution_count": null,
   "id": "20c2716c",
   "metadata": {},
   "outputs": [],
   "source": [
    "def my_decorator(func_to_decorate):\n",
    "    print(\"мы внутри функции по созданию новой функции\")\n",
    "\n",
    "    def replacement_function():\n",
    "        print(\"мы внутри функции, которая сейчас выполнит оригинальную функцию\")\n",
    "        func_to_decorate()\n",
    "        print(\"мы только что выполнили оригинальную функцию\")\n",
    "    \n",
    "    print(\"мы объявили функцию для замены, возвращаем её\")\n",
    "    \n",
    "    return replacement_function\n",
    "\n"
   ]
  },
  {
   "cell_type": "code",
   "execution_count": null,
   "id": "7858650b",
   "metadata": {},
   "outputs": [],
   "source": [
    "my_function = my_decorator(my_function)"
   ]
  },
  {
   "cell_type": "code",
   "execution_count": null,
   "id": "c2d01ace",
   "metadata": {},
   "outputs": [],
   "source": [
    "my_function"
   ]
  },
  {
   "cell_type": "code",
   "execution_count": null,
   "id": "e9d4a90c",
   "metadata": {},
   "outputs": [],
   "source": [
    "my_function()"
   ]
  },
  {
   "cell_type": "code",
   "execution_count": null,
   "id": "a3fe7d1c",
   "metadata": {},
   "outputs": [],
   "source": [
    "my_function()"
   ]
  },
  {
   "cell_type": "code",
   "execution_count": null,
   "id": "5294beaf",
   "metadata": {},
   "outputs": [],
   "source": [
    "@my_decorator\n",
    "def small_function():\n",
    "    print('i a small function')"
   ]
  },
  {
   "cell_type": "code",
   "execution_count": null,
   "id": "428e7879",
   "metadata": {},
   "outputs": [],
   "source": [
    "small_function()"
   ]
  },
  {
   "cell_type": "code",
   "execution_count": null,
   "id": "ba1c5e20",
   "metadata": {},
   "outputs": [],
   "source": [
    "small_function"
   ]
  },
  {
   "cell_type": "code",
   "execution_count": null,
   "id": "89bdca18",
   "metadata": {},
   "outputs": [],
   "source": [
    "from functools import wraps"
   ]
  },
  {
   "cell_type": "code",
   "execution_count": null,
   "id": "20fbe2c1",
   "metadata": {},
   "outputs": [],
   "source": [
    "def my_dec(func):\n",
    "    \n",
    "    @wraps(func)\n",
    "    def wrapper():\n",
    "        print(\"вызываю исходную функцию\", func)\n",
    "        func()\n",
    "        print(\"выхожу из функции\")\n",
    "        \n",
    "    return wrapper\n",
    "\n"
   ]
  },
  {
   "cell_type": "code",
   "execution_count": null,
   "id": "47f89334",
   "metadata": {},
   "outputs": [],
   "source": [
    "@my_dec\n",
    "def some_func():\n",
    "    print('running body func')"
   ]
  },
  {
   "cell_type": "code",
   "execution_count": null,
   "id": "0c861231",
   "metadata": {},
   "outputs": [],
   "source": [
    "some_func"
   ]
  },
  {
   "cell_type": "code",
   "execution_count": null,
   "id": "99575ae0",
   "metadata": {},
   "outputs": [],
   "source": [
    "some_func()"
   ]
  },
  {
   "cell_type": "code",
   "execution_count": null,
   "id": "1f88c181",
   "metadata": {},
   "outputs": [],
   "source": [
    "def dec_foo(func):\n",
    "\n",
    "    @wraps(func)\n",
    "    def wrapper():\n",
    "        print(\"foo выполнение\")\n",
    "        func()\n",
    "        print(\"foo завершение\")\n",
    "\n",
    "    return wrapper\n",
    "\n"
   ]
  },
  {
   "cell_type": "code",
   "execution_count": null,
   "id": "372c861a",
   "metadata": {},
   "outputs": [],
   "source": [
    "@dec_foo\n",
    "@my_dec\n",
    "def func():\n",
    "    print(\"выполняется исходная функция\")\n"
   ]
  },
  {
   "cell_type": "code",
   "execution_count": null,
   "id": "9ac8df10",
   "metadata": {},
   "outputs": [],
   "source": [
    "func"
   ]
  },
  {
   "cell_type": "code",
   "execution_count": null,
   "id": "97a9c043",
   "metadata": {},
   "outputs": [],
   "source": [
    "func()"
   ]
  },
  {
   "cell_type": "code",
   "execution_count": null,
   "id": "7e6e4090",
   "metadata": {},
   "outputs": [],
   "source": [
    "def square(num):\n",
    "    return num ** 2"
   ]
  },
  {
   "cell_type": "code",
   "execution_count": null,
   "id": "883d26bb",
   "metadata": {},
   "outputs": [],
   "source": [
    "def dec_with_one_arg(func):\n",
    "    \n",
    "    @wraps(func)\n",
    "    def wrapper(arg):\n",
    "        print(\"вызываю функцию\", func, \"с аргументом\", arg)\n",
    "        result = func(arg)\n",
    "        print(\"результат выполнения:\", result)\n",
    "        return result\n",
    "    \n",
    "    return wrapper\n",
    "\n"
   ]
  },
  {
   "cell_type": "code",
   "execution_count": null,
   "id": "dbe367d1",
   "metadata": {},
   "outputs": [],
   "source": [
    "@dec_with_one_arg\n",
    "def cube(num):\n",
    "    return num ** 3\n"
   ]
  },
  {
   "cell_type": "code",
   "execution_count": null,
   "id": "4f3ad092",
   "metadata": {},
   "outputs": [],
   "source": [
    "cube(4)"
   ]
  },
  {
   "cell_type": "code",
   "execution_count": null,
   "id": "ed5b2c9b",
   "metadata": {},
   "outputs": [],
   "source": [
    "from timeit import default_timer\n",
    "\n",
    "\n",
    "default_timer()\n"
   ]
  },
  {
   "cell_type": "code",
   "execution_count": null,
   "id": "ad546bd2",
   "metadata": {},
   "outputs": [],
   "source": [
    "def show_timing(func):\n",
    "    \n",
    "    @wraps(func)\n",
    "    def wrapper(*args, **kwargs):\n",
    "        start_time = default_timer()\n",
    "        result = func(*args, **kwargs)\n",
    "        amount = default_timer() - start_time\n",
    "        print(\"executed func\", \n",
    "              func, \n",
    "              \"in {:.10f}s\".format(amount), \n",
    "              \"and got\", \n",
    "              result)\n",
    "        return result\n",
    "    \n",
    "    return wrapper\n",
    "\n"
   ]
  },
  {
   "cell_type": "code",
   "execution_count": null,
   "id": "88667232",
   "metadata": {},
   "outputs": [],
   "source": [
    "@show_timing\n",
    "def power_nums(*nums, power=2):\n",
    "    return [num ** power for num in nums]"
   ]
  },
  {
   "cell_type": "code",
   "execution_count": null,
   "id": "84ca8534",
   "metadata": {},
   "outputs": [],
   "source": [
    "power_nums(*range(10, 20, 3))"
   ]
  },
  {
   "cell_type": "code",
   "execution_count": null,
   "id": "64239198",
   "metadata": {},
   "outputs": [],
   "source": [
    "power_nums(12345, 6543, power=9)"
   ]
  },
  {
   "cell_type": "code",
   "execution_count": null,
   "id": "99b19d8e",
   "metadata": {},
   "outputs": [],
   "source": [
    "power_nums(1, 2, 3, power=2)"
   ]
  },
  {
   "cell_type": "code",
   "execution_count": null,
   "id": "48cc700e",
   "metadata": {},
   "outputs": [],
   "source": [
    "(v for v in range(5))\n"
   ]
  },
  {
   "cell_type": "code",
   "execution_count": null,
   "id": "630299e9",
   "metadata": {},
   "outputs": [],
   "source": [
    "tuple(v for v in range(5))\n"
   ]
  },
  {
   "cell_type": "code",
   "execution_count": null,
   "id": "f216cd91",
   "metadata": {},
   "outputs": [],
   "source": [
    "g = (v for v in range(3))\n",
    "for i in g:\n",
    "    print(i)"
   ]
  },
  {
   "cell_type": "code",
   "execution_count": null,
   "id": "f5c7af6c",
   "metadata": {},
   "outputs": [],
   "source": [
    "for i in g:\n",
    "    print(i)"
   ]
  },
  {
   "cell_type": "code",
   "execution_count": null,
   "id": "38ede10e",
   "metadata": {},
   "outputs": [],
   "source": [
    "def generate_squares(numbers):\n",
    "    for number in numbers:\n",
    "        print(\"process and yield\", number)\n",
    "        yield number ** 2\n",
    "        print(\"got here after yield, checking the next iteration\")\n",
    "\n"
   ]
  },
  {
   "cell_type": "code",
   "execution_count": null,
   "id": "76e975a4",
   "metadata": {},
   "outputs": [],
   "source": [
    "g = generate_squares(range(2, 7))\n",
    "next(g)\n"
   ]
  },
  {
   "cell_type": "code",
   "execution_count": null,
   "id": "2fa39865",
   "metadata": {},
   "outputs": [],
   "source": [
    "next(g)\n",
    "\n"
   ]
  },
  {
   "cell_type": "code",
   "execution_count": null,
   "id": "69b85baf",
   "metadata": {},
   "outputs": [],
   "source": [
    "next(g)\n"
   ]
  },
  {
   "cell_type": "code",
   "execution_count": null,
   "id": "c5aaf6c2",
   "metadata": {},
   "outputs": [],
   "source": [
    "for i in g:\n",
    "    print(\"got i\", i)\n"
   ]
  },
  {
   "cell_type": "code",
   "execution_count": null,
   "id": "596fd208",
   "metadata": {},
   "outputs": [],
   "source": [
    "names = [\"joHn\", \"sAm\", \"kate\", \"saRA\"]\n",
    "print(names)\n",
    "[name.title() for name in names]"
   ]
  },
  {
   "cell_type": "code",
   "execution_count": null,
   "id": "829625fb",
   "metadata": {},
   "outputs": [],
   "source": [
    "map(str.title, names)\n",
    "list(map(str.title, names))"
   ]
  },
  {
   "cell_type": "code",
   "execution_count": null,
   "id": "507edd2c",
   "metadata": {},
   "outputs": [],
   "source": [
    "list(filter(str.isdigit, [\"1\", \"asfd\", \"4\", \"53\", \"apm\", \"q1\"]))"
   ]
  },
  {
   "cell_type": "code",
   "execution_count": null,
   "id": "ec16e5f0",
   "metadata": {},
   "outputs": [],
   "source": [
    "numbers = [1,2,3,4,5]\n",
    "a,b, *rest = numbers\n",
    "\n",
    "print(*numbers)"
   ]
  },
  {
   "cell_type": "code",
   "execution_count": 43,
   "id": "b25bc92e",
   "metadata": {},
   "outputs": [
    {
     "data": {
      "text/plain": [
       "'my key does not in exist'"
      ]
     },
     "execution_count": 43,
     "metadata": {},
     "output_type": "execute_result"
    }
   ],
   "source": [
    "def sf (key, **kwargs):\n",
    "    if key in kwargs:\n",
    "        return kwargs.get(key)\n",
    "    return f'{key} does not in exist'\n",
    "    \n",
    "sf('my key', my_key='arg1', oyher_key='arg2', key3='arg3')"
   ]
  },
  {
   "cell_type": "code",
   "execution_count": null,
   "id": "8aad6d6b",
   "metadata": {},
   "outputs": [],
   "source": []
  }
 ],
 "metadata": {
  "kernelspec": {
   "display_name": "Python 3 (ipykernel)",
   "language": "python",
   "name": "python3"
  },
  "language_info": {
   "codemirror_mode": {
    "name": "ipython",
    "version": 3
   },
   "file_extension": ".py",
   "mimetype": "text/x-python",
   "name": "python",
   "nbconvert_exporter": "python",
   "pygments_lexer": "ipython3",
   "version": "3.10.6"
  }
 },
 "nbformat": 4,
 "nbformat_minor": 5
}
