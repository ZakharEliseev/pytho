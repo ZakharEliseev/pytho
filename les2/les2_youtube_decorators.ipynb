{
 "cells": [
  {
   "cell_type": "code",
   "execution_count": 17,
   "id": "9679566d",
   "metadata": {},
   "outputs": [
    {
     "name": "stdout",
     "output_type": "stream",
     "text": [
      "[1, 2, 3]\n",
      "1 2 3\n",
      "1 2 3\n"
     ]
    }
   ],
   "source": [
    "my_list = [1, 2 ,3]\n",
    "print(my_list)\n",
    "print(*my_list) # передача аргументов по одному, а не целым списком\n",
    "print(1, 2, 3)"
   ]
  },
  {
   "cell_type": "code",
   "execution_count": 18,
   "id": "9cf3a55f",
   "metadata": {},
   "outputs": [
    {
     "ename": "IndexError",
     "evalue": "Replacement index 1 out of range for positional args tuple",
     "output_type": "error",
     "traceback": [
      "\u001b[0;31m---------------------------------------------------------------------------\u001b[0m",
      "\u001b[0;31mIndexError\u001b[0m                                Traceback (most recent call last)",
      "Cell \u001b[0;32mIn [18], line 1\u001b[0m\n\u001b[0;32m----> 1\u001b[0m \u001b[38;5;124;43m'\u001b[39;49m\u001b[38;5;124;43mОдин: \u001b[39;49m\u001b[38;5;132;43;01m{}\u001b[39;49;00m\u001b[38;5;124;43m два:\u001b[39;49m\u001b[38;5;132;43;01m{}\u001b[39;49;00m\u001b[38;5;124;43m, три:\u001b[39;49m\u001b[38;5;132;43;01m{}\u001b[39;49;00m\u001b[38;5;124;43m'\u001b[39;49m\u001b[38;5;241;43m.\u001b[39;49m\u001b[43mformat\u001b[49m\u001b[43m(\u001b[49m\u001b[43mmy_list\u001b[49m\u001b[43m)\u001b[49m\n",
      "\u001b[0;31mIndexError\u001b[0m: Replacement index 1 out of range for positional args tuple"
     ]
    }
   ],
   "source": [
    "'Один: {} два: {}, три:{}'.format(my_list)"
   ]
  },
  {
   "cell_type": "code",
   "execution_count": 19,
   "id": "f4809127",
   "metadata": {},
   "outputs": [
    {
     "data": {
      "text/plain": [
       "'Один: 1 два:2, три:3'"
      ]
     },
     "execution_count": 19,
     "metadata": {},
     "output_type": "execute_result"
    }
   ],
   "source": [
    "'Один: {} два:{}, три:{}'.format(*my_list)"
   ]
  },
  {
   "cell_type": "code",
   "execution_count": 22,
   "id": "fd4fbecc",
   "metadata": {},
   "outputs": [
    {
     "data": {
      "text/plain": [
       "'Имя: Гвидо, язык: Python'"
      ]
     },
     "execution_count": 22,
     "metadata": {},
     "output_type": "execute_result"
    }
   ],
   "source": [
    "'Имя: {name}, язык: {lang}'.format(name='Гвидо', lang='Python')"
   ]
  },
  {
   "cell_type": "code",
   "execution_count": 23,
   "id": "c7498566",
   "metadata": {},
   "outputs": [],
   "source": [
    "my_dict = dict(name='Гвидо', lang='Python')"
   ]
  },
  {
   "cell_type": "code",
   "execution_count": 24,
   "id": "7a2da4e2",
   "metadata": {},
   "outputs": [
    {
     "data": {
      "text/plain": [
       "{'name': 'Гвидо', 'lang': 'Python'}"
      ]
     },
     "execution_count": 24,
     "metadata": {},
     "output_type": "execute_result"
    }
   ],
   "source": [
    "my_dict"
   ]
  },
  {
   "cell_type": "code",
   "execution_count": 25,
   "id": "54ba1102",
   "metadata": {},
   "outputs": [
    {
     "data": {
      "text/plain": [
       "'Имя: Гвидо, язык: Python'"
      ]
     },
     "execution_count": 25,
     "metadata": {},
     "output_type": "execute_result"
    }
   ],
   "source": [
    "'Имя: {name}, язык: {lang}'.format(**my_dict)"
   ]
  },
  {
   "cell_type": "code",
   "execution_count": 26,
   "id": "abb23e21",
   "metadata": {},
   "outputs": [],
   "source": [
    "lang_auth = [{'name': 'Гвидо', 'lang': 'Python'}, {'name': 'Брайн', 'lang': 'C'}]"
   ]
  },
  {
   "cell_type": "code",
   "execution_count": 29,
   "id": "10b12540",
   "metadata": {},
   "outputs": [
    {
     "name": "stdout",
     "output_type": "stream",
     "text": [
      "Имя: Гвидо, язык: Python\n",
      "Имя: Брайн, язык: C\n"
     ]
    }
   ],
   "source": [
    "for auth in lang_auth:\n",
    "    print( 'Имя: {name}, язык: {lang}'.format(**auth))"
   ]
  },
  {
   "cell_type": "code",
   "execution_count": 34,
   "id": "8cba3035",
   "metadata": {},
   "outputs": [],
   "source": [
    "def lang_info(auth, lang, *versions):\n",
    "    print(f'Имя: {auth}, язык: {lang}')\n",
    "    print(versions)"
   ]
  },
  {
   "cell_type": "code",
   "execution_count": 35,
   "id": "b4923bfe",
   "metadata": {},
   "outputs": [
    {
     "name": "stdout",
     "output_type": "stream",
     "text": [
      "Имя: Гвидо, язык: Python\n",
      "(2, 3)\n"
     ]
    }
   ],
   "source": [
    "lang_info('Гвидо', 'Python', 2, 3)"
   ]
  },
  {
   "cell_type": "code",
   "execution_count": 38,
   "id": "57607c33",
   "metadata": {},
   "outputs": [],
   "source": [
    "def lang_info(auth, lang, *args):\n",
    "    print(f'Имя: {auth}, язык: {lang}')\n",
    "    print('Версии: ', *args)"
   ]
  },
  {
   "cell_type": "code",
   "execution_count": 39,
   "id": "1b167baa",
   "metadata": {},
   "outputs": [
    {
     "name": "stdout",
     "output_type": "stream",
     "text": [
      "Имя: Гвидо, язык: Python\n",
      "Версии:  2 3 1\n"
     ]
    }
   ],
   "source": [
    "lang_info('Гвидо', 'Python', 2, 3, 1)"
   ]
  },
  {
   "cell_type": "code",
   "execution_count": 44,
   "id": "7479019a",
   "metadata": {},
   "outputs": [],
   "source": [
    "def lang_info2(auth, lang='Pythpn', **kwargs):\n",
    "    print(f'Имя: {auth}, язык: {lang}')\n",
    "    for key, value in kwargs.items():\n",
    "        print(f'key: {key}, value: {value}')"
   ]
  },
  {
   "cell_type": "code",
   "execution_count": 45,
   "id": "5b2fb3b3",
   "metadata": {},
   "outputs": [
    {
     "name": "stdout",
     "output_type": "stream",
     "text": [
      "Имя: Гвидо, язык: Python\n",
      "key: version, value: 3\n",
      "key: year, value: 2008\n"
     ]
    }
   ],
   "source": [
    "lang_info2('Гвидо', 'Python', version=3, year=2008)"
   ]
  },
  {
   "cell_type": "code",
   "execution_count": 48,
   "id": "39ab42b6",
   "metadata": {
    "scrolled": true
   },
   "outputs": [
    {
     "name": "stdout",
     "output_type": "stream",
     "text": [
      "Имя: Гвидо, язык: C++\n",
      "key: version, value: 20\n"
     ]
    }
   ],
   "source": [
    "additional_data = {'lang': 'C++', 'version': 20}\n",
    "lang_info2('Гвидо', **additional_data)"
   ]
  },
  {
   "cell_type": "code",
   "execution_count": 47,
   "id": "012ea21e",
   "metadata": {},
   "outputs": [
    {
     "data": {
      "text/plain": [
       "{'lang': 'C++', 'version': 20}"
      ]
     },
     "execution_count": 47,
     "metadata": {},
     "output_type": "execute_result"
    }
   ],
   "source": []
  },
  {
   "cell_type": "code",
   "execution_count": 50,
   "id": "5a75e18e",
   "metadata": {},
   "outputs": [
    {
     "name": "stdout",
     "output_type": "stream",
     "text": [
      "Имя: Гвидо, язык: C++\n",
      "key: version, value: 20\n"
     ]
    }
   ],
   "source": [
    "def lang_info2(auth, lang, **kwargs):\n",
    "    print(f'Имя: {auth}, язык: {lang}')\n",
    "    for key, value in kwargs.items():\n",
    "        print(f'key: {key}, value: {value}')\n",
    "\n",
    "lang_info2('Гвидо', **additional_data)"
   ]
  },
  {
   "cell_type": "code",
   "execution_count": 52,
   "id": "272c95b8",
   "metadata": {
    "scrolled": true
   },
   "outputs": [
    {
     "name": "stdout",
     "output_type": "stream",
     "text": [
      "Имя: Гвидо, язык: python\n",
      "key: lang, value: C++\n",
      "key: version, value: 20\n"
     ]
    }
   ],
   "source": [
    "def lang_info4(auth, lang, /, **kwargs):\n",
    "    print(f'Имя: {auth}, язык: {lang}')\n",
    "    for key, value in kwargs.items():\n",
    "        print(f'key: {key}, value: {value}')\n",
    "\n",
    "lang_info4('Гвидо', 'python', **additional_data)"
   ]
  },
  {
   "cell_type": "code",
   "execution_count": null,
   "id": "38789fc7",
   "metadata": {},
   "outputs": [],
   "source": []
  },
  {
   "cell_type": "code",
   "execution_count": 1,
   "id": "2c65004b",
   "metadata": {
    "scrolled": true
   },
   "outputs": [
    {
     "name": "stdout",
     "output_type": "stream",
     "text": [
      "Hello world\n"
     ]
    }
   ],
   "source": [
    "print(\"Hello world\")"
   ]
  },
  {
   "cell_type": "code",
   "execution_count": 2,
   "id": "fd8b3610",
   "metadata": {},
   "outputs": [],
   "source": [
    "def hello():\n",
    "    print('Hello')"
   ]
  },
  {
   "cell_type": "code",
   "execution_count": 3,
   "id": "45544c6e",
   "metadata": {
    "scrolled": true
   },
   "outputs": [
    {
     "data": {
      "text/plain": [
       "<function __main__.hello()>"
      ]
     },
     "execution_count": 3,
     "metadata": {},
     "output_type": "execute_result"
    }
   ],
   "source": [
    "hello"
   ]
  },
  {
   "cell_type": "code",
   "execution_count": 4,
   "id": "9e084648",
   "metadata": {},
   "outputs": [
    {
     "name": "stdout",
     "output_type": "stream",
     "text": [
      "Hello\n"
     ]
    }
   ],
   "source": [
    "hello()"
   ]
  },
  {
   "cell_type": "code",
   "execution_count": 5,
   "id": "86fe7b8b",
   "metadata": {},
   "outputs": [],
   "source": [
    "def power_number(number, power=2):\n",
    "    return number ** power"
   ]
  },
  {
   "cell_type": "code",
   "execution_count": 6,
   "id": "aee3a5ac",
   "metadata": {},
   "outputs": [
    {
     "data": {
      "text/plain": [
       "<function __main__.power_number(number, power=2)>"
      ]
     },
     "execution_count": 6,
     "metadata": {},
     "output_type": "execute_result"
    }
   ],
   "source": [
    "power_number"
   ]
  },
  {
   "cell_type": "code",
   "execution_count": 7,
   "id": "bc7f1147",
   "metadata": {},
   "outputs": [
    {
     "data": {
      "text/plain": [
       "9"
      ]
     },
     "execution_count": 7,
     "metadata": {},
     "output_type": "execute_result"
    }
   ],
   "source": [
    "power_number(3)"
   ]
  },
  {
   "cell_type": "code",
   "execution_count": 8,
   "id": "72eb5ed2",
   "metadata": {},
   "outputs": [
    {
     "name": "stdout",
     "output_type": "stream",
     "text": [
      "Hello\n",
      "None\n"
     ]
    }
   ],
   "source": [
    "print(hello())"
   ]
  },
  {
   "cell_type": "code",
   "execution_count": 10,
   "id": "41ecc18d",
   "metadata": {},
   "outputs": [
    {
     "data": {
      "text/plain": [
       "8"
      ]
     },
     "execution_count": 10,
     "metadata": {},
     "output_type": "execute_result"
    }
   ],
   "source": [
    "power_number(2, 3) # передача аргументов позиционно"
   ]
  },
  {
   "cell_type": "code",
   "execution_count": 11,
   "id": "aa1d1396",
   "metadata": {},
   "outputs": [
    {
     "data": {
      "text/plain": [
       "8"
      ]
     },
     "execution_count": 11,
     "metadata": {},
     "output_type": "execute_result"
    }
   ],
   "source": [
    "power_number(2, power=3) # передача позиционно и именованно"
   ]
  },
  {
   "cell_type": "code",
   "execution_count": 12,
   "id": "6f241a29",
   "metadata": {},
   "outputs": [
    {
     "data": {
      "text/plain": [
       "8"
      ]
     },
     "execution_count": 12,
     "metadata": {},
     "output_type": "execute_result"
    }
   ],
   "source": [
    "power_number(number=2, power=3) # передача именованно"
   ]
  },
  {
   "cell_type": "code",
   "execution_count": 13,
   "id": "ef75f17e",
   "metadata": {},
   "outputs": [
    {
     "data": {
      "text/plain": [
       "8"
      ]
     },
     "execution_count": 13,
     "metadata": {},
     "output_type": "execute_result"
    }
   ],
   "source": [
    "power_number(power=3, number =2) # при именованной передачи по имени результат будет правильный, \n",
    "                                 # даже при перестановке аргументов"
   ]
  },
  {
   "cell_type": "code",
   "execution_count": 55,
   "id": "f44c2cab",
   "metadata": {},
   "outputs": [],
   "source": [
    "def power_numbers(*numbers, power=2):\n",
    "    return[number ** power for number in numbers]"
   ]
  },
  {
   "cell_type": "code",
   "execution_count": 56,
   "id": "1fd42a0d",
   "metadata": {},
   "outputs": [
    {
     "data": {
      "text/plain": [
       "[1, 4, 9, 16, 25]"
      ]
     },
     "execution_count": 56,
     "metadata": {},
     "output_type": "execute_result"
    }
   ],
   "source": [
    "power_numbers(1,2,3,4,5)"
   ]
  },
  {
   "cell_type": "code",
   "execution_count": 58,
   "id": "89f04be2",
   "metadata": {},
   "outputs": [
    {
     "data": {
      "text/plain": [
       "[1, 8, 27, 64, 125]"
      ]
     },
     "execution_count": 58,
     "metadata": {},
     "output_type": "execute_result"
    }
   ],
   "source": [
    "power_numbers(1,2,3,4,5, power=3)"
   ]
  },
  {
   "cell_type": "code",
   "execution_count": 60,
   "id": "21bb5a0f",
   "metadata": {},
   "outputs": [
    {
     "data": {
      "text/plain": [
       "[1]"
      ]
     },
     "execution_count": 60,
     "metadata": {},
     "output_type": "execute_result"
    }
   ],
   "source": [
    "power_numbers(1, power=5)"
   ]
  },
  {
   "cell_type": "code",
   "execution_count": 61,
   "id": "59ee7316",
   "metadata": {},
   "outputs": [
    {
     "data": {
      "text/plain": [
       "[]"
      ]
     },
     "execution_count": 61,
     "metadata": {},
     "output_type": "execute_result"
    }
   ],
   "source": [
    "power_numbers( power=5)"
   ]
  },
  {
   "cell_type": "code",
   "execution_count": 62,
   "id": "9b6f417c",
   "metadata": {},
   "outputs": [
    {
     "data": {
      "text/plain": [
       "[]"
      ]
     },
     "execution_count": 62,
     "metadata": {},
     "output_type": "execute_result"
    }
   ],
   "source": [
    "power_numbers()"
   ]
  },
  {
   "cell_type": "code",
   "execution_count": 63,
   "id": "f1a82d40",
   "metadata": {},
   "outputs": [
    {
     "data": {
      "text/plain": [
       "[1, 25, 49]"
      ]
     },
     "execution_count": 63,
     "metadata": {},
     "output_type": "execute_result"
    }
   ],
   "source": [
    "power_numbers(1, 5, 7)"
   ]
  },
  {
   "cell_type": "code",
   "execution_count": 64,
   "id": "b0c220f1",
   "metadata": {},
   "outputs": [
    {
     "data": {
      "text/plain": [
       "[49]"
      ]
     },
     "execution_count": 64,
     "metadata": {},
     "output_type": "execute_result"
    }
   ],
   "source": [
    "power_numbers(7)"
   ]
  },
  {
   "cell_type": "code",
   "execution_count": 65,
   "id": "d5419ffc",
   "metadata": {},
   "outputs": [
    {
     "name": "stdout",
     "output_type": "stream",
     "text": [
      "[5, 7, 9]\n"
     ]
    }
   ],
   "source": [
    "numbers_list = [5, 7 ,9]\n",
    "print(numbers_list)"
   ]
  },
  {
   "cell_type": "code",
   "execution_count": 69,
   "id": "4fbcdcc4",
   "metadata": {},
   "outputs": [
    {
     "ename": "TypeError",
     "evalue": "unsupported operand type(s) for ** or pow(): 'list' and 'int'",
     "output_type": "error",
     "traceback": [
      "\u001b[0;31m---------------------------------------------------------------------------\u001b[0m",
      "\u001b[0;31mTypeError\u001b[0m                                 Traceback (most recent call last)",
      "Cell \u001b[0;32mIn [69], line 1\u001b[0m\n\u001b[0;32m----> 1\u001b[0m \u001b[43mpower_numbers\u001b[49m\u001b[43m(\u001b[49m\u001b[43mnumbers_list\u001b[49m\u001b[43m)\u001b[49m\n",
      "Cell \u001b[0;32mIn [55], line 2\u001b[0m, in \u001b[0;36mpower_numbers\u001b[0;34m(power, *numbers)\u001b[0m\n\u001b[1;32m      1\u001b[0m \u001b[38;5;28;01mdef\u001b[39;00m \u001b[38;5;21mpower_numbers\u001b[39m(\u001b[38;5;241m*\u001b[39mnumbers, power\u001b[38;5;241m=\u001b[39m\u001b[38;5;241m2\u001b[39m):\n\u001b[0;32m----> 2\u001b[0m    \u001b[38;5;28;01mreturn\u001b[39;00m [number \u001b[38;5;241m*\u001b[39m\u001b[38;5;241m*\u001b[39m power \u001b[38;5;28;01mfor\u001b[39;00m number \u001b[38;5;129;01min\u001b[39;00m numbers]\n",
      "Cell \u001b[0;32mIn [55], line 2\u001b[0m, in \u001b[0;36m<listcomp>\u001b[0;34m(.0)\u001b[0m\n\u001b[1;32m      1\u001b[0m \u001b[38;5;28;01mdef\u001b[39;00m \u001b[38;5;21mpower_numbers\u001b[39m(\u001b[38;5;241m*\u001b[39mnumbers, power\u001b[38;5;241m=\u001b[39m\u001b[38;5;241m2\u001b[39m):\n\u001b[0;32m----> 2\u001b[0m    \u001b[38;5;28;01mreturn\u001b[39;00m [\u001b[43mnumber\u001b[49m\u001b[43m \u001b[49m\u001b[38;5;241;43m*\u001b[39;49m\u001b[38;5;241;43m*\u001b[39;49m\u001b[43m \u001b[49m\u001b[43mpower\u001b[49m \u001b[38;5;28;01mfor\u001b[39;00m number \u001b[38;5;129;01min\u001b[39;00m numbers]\n",
      "\u001b[0;31mTypeError\u001b[0m: unsupported operand type(s) for ** or pow(): 'list' and 'int'"
     ]
    }
   ],
   "source": [
    "power_numbers(numbers_list)"
   ]
  },
  {
   "cell_type": "code",
   "execution_count": 68,
   "id": "17dd27ac",
   "metadata": {},
   "outputs": [
    {
     "data": {
      "text/plain": [
       "[25, 49, 81]"
      ]
     },
     "execution_count": 68,
     "metadata": {},
     "output_type": "execute_result"
    }
   ],
   "source": [
    "power_numbers(*numbers_list)"
   ]
  },
  {
   "cell_type": "code",
   "execution_count": 73,
   "id": "4cac2321",
   "metadata": {},
   "outputs": [
    {
     "data": {
      "text/plain": [
       "[125, 343, 729]"
      ]
     },
     "execution_count": 73,
     "metadata": {},
     "output_type": "execute_result"
    }
   ],
   "source": [
    "power_numbers(*numbers_list, power=3)"
   ]
  },
  {
   "cell_type": "code",
   "execution_count": 74,
   "id": "0309dd89",
   "metadata": {},
   "outputs": [
    {
     "data": {
      "text/plain": [
       "<function __main__.power_number(number, power=2)>"
      ]
     },
     "execution_count": 74,
     "metadata": {},
     "output_type": "execute_result"
    }
   ],
   "source": [
    "power_number"
   ]
  },
  {
   "cell_type": "code",
   "execution_count": 75,
   "id": "75611251",
   "metadata": {},
   "outputs": [
    {
     "name": "stdout",
     "output_type": "stream",
     "text": [
      "(4, 3)\n"
     ]
    }
   ],
   "source": [
    "number_and_pow = 4, 3\n",
    "print(number_and_pow)"
   ]
  },
  {
   "cell_type": "code",
   "execution_count": 76,
   "id": "a53fc55d",
   "metadata": {},
   "outputs": [
    {
     "data": {
      "text/plain": [
       "64"
      ]
     },
     "execution_count": 76,
     "metadata": {},
     "output_type": "execute_result"
    }
   ],
   "source": [
    "power_number(*number_and_pow)"
   ]
  },
  {
   "cell_type": "code",
   "execution_count": 79,
   "id": "1826a072",
   "metadata": {},
   "outputs": [
    {
     "name": "stdout",
     "output_type": "stream",
     "text": [
      "a =  5 b =  7 c =  9\n"
     ]
    }
   ],
   "source": [
    "num_list = [5 ,7 ,9]\n",
    "a, b ,c = num_list\n",
    "print('a = ',a ,'b = ', b ,'c = ',c )"
   ]
  },
  {
   "cell_type": "code",
   "execution_count": 80,
   "id": "8f3bf670",
   "metadata": {},
   "outputs": [
    {
     "name": "stdout",
     "output_type": "stream",
     "text": [
      "{'number': 3, 'power': 2}\n"
     ]
    }
   ],
   "source": [
    "params = {\n",
    "    'number':3,\n",
    "    'power':2,\n",
    "}\n",
    "print(params)"
   ]
  },
  {
   "cell_type": "code",
   "execution_count": 81,
   "id": "a31b7dca",
   "metadata": {},
   "outputs": [
    {
     "data": {
      "text/plain": [
       "{'number': 4, 'power': 2}"
      ]
     },
     "execution_count": 81,
     "metadata": {},
     "output_type": "execute_result"
    }
   ],
   "source": [
    "params['number'] = 4\n",
    "params"
   ]
  },
  {
   "cell_type": "code",
   "execution_count": 82,
   "id": "6806000f",
   "metadata": {},
   "outputs": [
    {
     "data": {
      "text/plain": [
       "16"
      ]
     },
     "execution_count": 82,
     "metadata": {},
     "output_type": "execute_result"
    }
   ],
   "source": [
    "power_number(**params)"
   ]
  },
  {
   "cell_type": "code",
   "execution_count": 83,
   "id": "be19553e",
   "metadata": {},
   "outputs": [
    {
     "data": {
      "text/plain": [
       "<function __main__.power_number(number, power=2)>"
      ]
     },
     "execution_count": 83,
     "metadata": {},
     "output_type": "execute_result"
    }
   ],
   "source": [
    "power_number"
   ]
  },
  {
   "cell_type": "code",
   "execution_count": 84,
   "id": "b2779cbc",
   "metadata": {},
   "outputs": [
    {
     "data": {
      "text/plain": [
       "256"
      ]
     },
     "execution_count": 84,
     "metadata": {},
     "output_type": "execute_result"
    }
   ],
   "source": [
    "params['power'] = 4\n",
    "power_number(**params)"
   ]
  },
  {
   "cell_type": "code",
   "execution_count": 85,
   "id": "e993c9f1",
   "metadata": {},
   "outputs": [
    {
     "data": {
      "text/plain": [
       "{'number': 4, 'power': 4}"
      ]
     },
     "execution_count": 85,
     "metadata": {},
     "output_type": "execute_result"
    }
   ],
   "source": [
    "params"
   ]
  },
  {
   "cell_type": "code",
   "execution_count": 86,
   "id": "ba74a71e",
   "metadata": {},
   "outputs": [
    {
     "data": {
      "text/plain": [
       "4"
      ]
     },
     "execution_count": 86,
     "metadata": {},
     "output_type": "execute_result"
    }
   ],
   "source": [
    "params.pop('power')"
   ]
  },
  {
   "cell_type": "code",
   "execution_count": 87,
   "id": "14054c9f",
   "metadata": {},
   "outputs": [
    {
     "data": {
      "text/plain": [
       "{'number': 4}"
      ]
     },
     "execution_count": 87,
     "metadata": {},
     "output_type": "execute_result"
    }
   ],
   "source": [
    "params"
   ]
  },
  {
   "cell_type": "code",
   "execution_count": 88,
   "id": "63f74a01",
   "metadata": {},
   "outputs": [
    {
     "data": {
      "text/plain": [
       "16"
      ]
     },
     "execution_count": 88,
     "metadata": {},
     "output_type": "execute_result"
    }
   ],
   "source": [
    "power_number(**params)"
   ]
  },
  {
   "cell_type": "code",
   "execution_count": 89,
   "id": "d42f19c5",
   "metadata": {},
   "outputs": [
    {
     "data": {
      "text/plain": [
       "<function __main__.power_number(number, power=2)>"
      ]
     },
     "execution_count": 89,
     "metadata": {},
     "output_type": "execute_result"
    }
   ],
   "source": [
    "power_number"
   ]
  },
  {
   "cell_type": "code",
   "execution_count": 91,
   "id": "e15214bc",
   "metadata": {},
   "outputs": [
    {
     "data": {
      "text/plain": [
       "{'single': <function __main__.power_number(number, power=2)>,\n",
       " 'many': <function __main__.power_numbers(*numbers, power=2)>}"
      ]
     },
     "execution_count": 91,
     "metadata": {},
     "output_type": "execute_result"
    }
   ],
   "source": [
    "power_functions = {\n",
    "    'single' : power_number,\n",
    "    'many' : power_numbers\n",
    "}\n",
    "power_functions"
   ]
  },
  {
   "cell_type": "code",
   "execution_count": 106,
   "id": "1d926943",
   "metadata": {},
   "outputs": [],
   "source": [
    "def accept_any_kwargs(**kwargs):\n",
    "    print('got kwargs', kwargs, '     show them ine by one:')\n",
    "    for key, value in kwargs.items():\n",
    "        print('key:', key, ',', 'value:', value)"
   ]
  },
  {
   "cell_type": "code",
   "execution_count": 107,
   "id": "58ae6523",
   "metadata": {},
   "outputs": [
    {
     "name": "stdout",
     "output_type": "stream",
     "text": [
      "got kwargs {'foo': 'bar', 'spam': 'eggs', 'fizz': 'buzz', 'abc': 123, 'qwe': None, 't': (1, 2), 'l': [4, 5]}      show them ine by one:\n",
      "key: foo , value: bar\n",
      "key: spam , value: eggs\n",
      "key: fizz , value: buzz\n",
      "key: abc , value: 123\n",
      "key: qwe , value: None\n",
      "key: t , value: (1, 2)\n",
      "key: l , value: [4, 5]\n"
     ]
    }
   ],
   "source": [
    "accept_any_kwargs(foo='bar', spam='eggs', fizz='buzz', abc=123, qwe=None, t=(1,2), l=[4,5])"
   ]
  },
  {
   "cell_type": "code",
   "execution_count": 108,
   "id": "f9b2ca94",
   "metadata": {},
   "outputs": [
    {
     "name": "stdout",
     "output_type": "stream",
     "text": [
      "got kwargs {}      show them ine by one:\n"
     ]
    }
   ],
   "source": [
    "accept_any_kwargs()"
   ]
  },
  {
   "cell_type": "code",
   "execution_count": 109,
   "id": "4f57db87",
   "metadata": {},
   "outputs": [
    {
     "name": "stdout",
     "output_type": "stream",
     "text": [
      "got kwargs {'foo': 'bar'}      show them ine by one:\n",
      "key: foo , value: bar\n"
     ]
    }
   ],
   "source": [
    "accept_any_kwargs(foo='bar')"
   ]
  },
  {
   "cell_type": "code",
   "execution_count": 111,
   "id": "0b875fe3",
   "metadata": {},
   "outputs": [],
   "source": [
    "def find_by_keys(*keys, **kwargs):\n",
    "    print('find values for keys', keys, 'in kwargs', kwargs)\n",
    "    for key, value in kwargs.items():\n",
    "        if key in keys:\n",
    "            print('key: ', key, 'value:', value)"
   ]
  },
  {
   "cell_type": "code",
   "execution_count": 115,
   "id": "1c293fb5",
   "metadata": {},
   "outputs": [
    {
     "name": "stdout",
     "output_type": "stream",
     "text": [
      "find values for keys () in kwargs {}\n"
     ]
    }
   ],
   "source": [
    "find_by_keys()"
   ]
  },
  {
   "cell_type": "code",
   "execution_count": 116,
   "id": "290f2ef1",
   "metadata": {},
   "outputs": [
    {
     "name": "stdout",
     "output_type": "stream",
     "text": [
      "find values for keys ('foo', 'bar') in kwargs {'spam': 'eggs', 'fizz': 'buzz'}\n"
     ]
    }
   ],
   "source": [
    "find_by_keys('foo', 'bar', spam='eggs', fizz='buzz')"
   ]
  },
  {
   "cell_type": "code",
   "execution_count": 117,
   "id": "23a6c377",
   "metadata": {},
   "outputs": [
    {
     "name": "stdout",
     "output_type": "stream",
     "text": [
      "find values for keys ('spam', 'bar') in kwargs {'spam': 'eggs', 'fizz': 'buzz'}\n",
      "key:  spam value: eggs\n"
     ]
    }
   ],
   "source": [
    "find_by_keys('spam', 'bar', spam='eggs', fizz='buzz')"
   ]
  },
  {
   "cell_type": "code",
   "execution_count": 120,
   "id": "35d6d560",
   "metadata": {},
   "outputs": [
    {
     "name": "stdout",
     "output_type": "stream",
     "text": [
      "find values for keys ('spam', 'fizz') in kwargs {'spam': 'eggs', 'fizz': 'buzz', 'qwe': 123}\n",
      "key:  spam value: eggs\n",
      "key:  fizz value: buzz\n"
     ]
    }
   ],
   "source": [
    "find_by_keys('spam', 'fizz', spam='eggs', fizz='buzz', qwe=123)"
   ]
  },
  {
   "cell_type": "code",
   "execution_count": 121,
   "id": "19dd013c",
   "metadata": {},
   "outputs": [
    {
     "data": {
      "text/plain": [
       "<function __main__.find_by_keys(*keys, **kwargs)>"
      ]
     },
     "execution_count": 121,
     "metadata": {},
     "output_type": "execute_result"
    }
   ],
   "source": [
    "find_by_keys"
   ]
  },
  {
   "cell_type": "code",
   "execution_count": 186,
   "id": "18c8d6f4",
   "metadata": {},
   "outputs": [
    {
     "name": "stdout",
     "output_type": "stream",
     "text": [
      "[1, None, 'spam']\n",
      "{'foo': 'bar', 'spam': ['spam', 'eggs'], 'qwe': 123, 'fizz': 'buzz'}\n"
     ]
    }
   ],
   "source": [
    "some_keys= [1, None, 'spam']\n",
    "some_data = {\n",
    "    'foo':'bar',\n",
    "    'spam':['spam','eggs'],\n",
    "    'qwe':123,\n",
    "    'fizz':'buzz',   \n",
    "}\n",
    "print(some_keys)\n",
    "print(some_data)"
   ]
  },
  {
   "cell_type": "code",
   "execution_count": 171,
   "id": "6a730699",
   "metadata": {},
   "outputs": [
    {
     "name": "stdout",
     "output_type": "stream",
     "text": [
      "[1, None, 'spam']\n",
      "{'foo': 'bar', 'spam': ['spam', 'eggs'], 'qwe': 123, 'fizz': 'buzz'}\n"
     ]
    }
   ],
   "source": [
    "print(some_keys)\n",
    "print(some_data)"
   ]
  },
  {
   "cell_type": "code",
   "execution_count": 172,
   "id": "2845602a",
   "metadata": {},
   "outputs": [
    {
     "name": "stdout",
     "output_type": "stream",
     "text": [
      "find values for keys (1, None, 'spam') in kwargs {'foo': 'bar', 'spam': ['spam', 'eggs'], 'qwe': 123, 'fizz': 'buzz'}\n",
      "key:  spam value: ['spam', 'eggs']\n"
     ]
    }
   ],
   "source": [
    "find_by_keys(*some_keys, **some_data)"
   ]
  },
  {
   "cell_type": "code",
   "execution_count": 173,
   "id": "1fa30ba6",
   "metadata": {},
   "outputs": [
    {
     "name": "stdout",
     "output_type": "stream",
     "text": [
      "find values for keys (1, None, 'spam', 'fizz') in kwargs {'foo': 'bar', 'spam': ['spam', 'eggs'], 'qwe': 123, 'fizz': 'buzz'}\n",
      "key:  spam value: ['spam', 'eggs']\n",
      "key:  fizz value: buzz\n"
     ]
    }
   ],
   "source": [
    "find_by_keys(*some_keys, 'fizz', **some_data)"
   ]
  },
  {
   "cell_type": "code",
   "execution_count": 175,
   "id": "9b439f62",
   "metadata": {},
   "outputs": [
    {
     "name": "stdout",
     "output_type": "stream",
     "text": [
      "find values for keys ('foo', 'spam', 'qwe', 'fizz') in kwargs {'foo': 'bar', 'spam': ['spam', 'eggs'], 'qwe': 123, 'fizz': 'buzz'}\n",
      "key:  foo value: bar\n",
      "key:  spam value: ['spam', 'eggs']\n",
      "key:  qwe value: 123\n",
      "key:  fizz value: buzz\n"
     ]
    }
   ],
   "source": [
    "find_by_keys(*some_data, **some_data)"
   ]
  },
  {
   "cell_type": "code",
   "execution_count": 176,
   "id": "63ade4ea",
   "metadata": {},
   "outputs": [
    {
     "data": {
      "text/plain": [
       "(1, 2, 3)"
      ]
     },
     "execution_count": 176,
     "metadata": {},
     "output_type": "execute_result"
    }
   ],
   "source": [
    "(1,2, 3)"
   ]
  },
  {
   "cell_type": "code",
   "execution_count": 187,
   "id": "44c73901",
   "metadata": {},
   "outputs": [
    {
     "data": {
      "text/plain": [
       "[1, None, 'spam']"
      ]
     },
     "execution_count": 187,
     "metadata": {},
     "output_type": "execute_result"
    }
   ],
   "source": [
    "some_keys"
   ]
  },
  {
   "cell_type": "code",
   "execution_count": 179,
   "id": "0486cffe",
   "metadata": {},
   "outputs": [
    {
     "data": {
      "text/plain": [
       "(1, 2, 3)"
      ]
     },
     "execution_count": 179,
     "metadata": {},
     "output_type": "execute_result"
    }
   ],
   "source": [
    "t = (1, 2 ,3)\n",
    "t"
   ]
  },
  {
   "cell_type": "code",
   "execution_count": 188,
   "id": "7ec0f925",
   "metadata": {},
   "outputs": [
    {
     "data": {
      "text/plain": [
       "[None, 'spam']"
      ]
     },
     "execution_count": 188,
     "metadata": {},
     "output_type": "execute_result"
    }
   ],
   "source": [
    "some_keys.pop(0)\n",
    "some_keys"
   ]
  },
  {
   "cell_type": "code",
   "execution_count": 190,
   "id": "4e889854",
   "metadata": {},
   "outputs": [],
   "source": [
    "some_keys.append('5')\n",
    "some_keys.append(4)"
   ]
  },
  {
   "cell_type": "code",
   "execution_count": 191,
   "id": "5532f802",
   "metadata": {},
   "outputs": [
    {
     "data": {
      "text/plain": [
       "[None, 'spam', '5', 4]"
      ]
     },
     "execution_count": 191,
     "metadata": {},
     "output_type": "execute_result"
    }
   ],
   "source": [
    "some_keys"
   ]
  },
  {
   "cell_type": "code",
   "execution_count": 193,
   "id": "d791820b",
   "metadata": {},
   "outputs": [
    {
     "name": "stdout",
     "output_type": "stream",
     "text": [
      "4\n",
      "5\n"
     ]
    }
   ],
   "source": [
    "a, b = 4, 5\n",
    "print(a)\n",
    "print(b)"
   ]
  },
  {
   "cell_type": "code",
   "execution_count": 195,
   "id": "ee06fd0a",
   "metadata": {},
   "outputs": [
    {
     "data": {
      "text/plain": [
       "(5, 6)"
      ]
     },
     "execution_count": 195,
     "metadata": {},
     "output_type": "execute_result"
    }
   ],
   "source": [
    "t = 5 ,6\n",
    "t"
   ]
  },
  {
   "cell_type": "code",
   "execution_count": 196,
   "id": "2fb62787",
   "metadata": {},
   "outputs": [],
   "source": [
    "def my_functions():\n",
    "    print('Старт моей функции')"
   ]
  },
  {
   "cell_type": "code",
   "execution_count": 197,
   "id": "8f061c6b",
   "metadata": {},
   "outputs": [
    {
     "data": {
      "text/plain": [
       "<function __main__.my_functions()>"
      ]
     },
     "execution_count": 197,
     "metadata": {},
     "output_type": "execute_result"
    }
   ],
   "source": [
    "my_functions"
   ]
  },
  {
   "cell_type": "code",
   "execution_count": 243,
   "id": "95220ff1",
   "metadata": {},
   "outputs": [],
   "source": [
    "def my_decorator(func_to_decorate):\n",
    "    print(\"Создание новой функции\")\n",
    "    \n",
    "    def replacement_function():\n",
    "        print('выполнение заменяющей функции')\n",
    "        func_to_decorate()\n",
    "        print('завершение запущенной оригинальной функции, заменяющей тоже')\n",
    "        \n",
    "    print('Создана новая заменяющая функции')\n",
    "    \n",
    "    return replacement_function"
   ]
  },
  {
   "cell_type": "code",
   "execution_count": 236,
   "id": "dc409c54",
   "metadata": {},
   "outputs": [
    {
     "data": {
      "text/plain": [
       "<function __main__.my_decorator(func_to_decorate)>"
      ]
     },
     "execution_count": 236,
     "metadata": {},
     "output_type": "execute_result"
    }
   ],
   "source": [
    "my_decorator"
   ]
  },
  {
   "cell_type": "code",
   "execution_count": 237,
   "id": "2c714442",
   "metadata": {},
   "outputs": [
    {
     "name": "stdout",
     "output_type": "stream",
     "text": [
      "Создание новой функции\n",
      "Создана новая заменяющей функции\n"
     ]
    }
   ],
   "source": [
    "my_functions = my_decorator(my_functions)"
   ]
  },
  {
   "cell_type": "code",
   "execution_count": 238,
   "id": "f29d98dc",
   "metadata": {},
   "outputs": [
    {
     "name": "stdout",
     "output_type": "stream",
     "text": [
      "выполнение заменяющей функции\n",
      "выполнение заменяющей функции\n",
      "выполнение заменяющей функции\n",
      "выполнение заменяющей функции\n",
      "выполнение заменяющей функции\n",
      "выполнение заменяющей функции\n",
      "выполнение заменяющей функции\n",
      "Старт моей функции\n",
      "завершение запущенной оригинальной функции, заменяющей тоже\n",
      "завершение запущенной оригинальной функции, заменяющей тоже\n",
      "завершение запущенной оригинальной функции, заменяющей тоже\n",
      "завершение запущенной оригинальной функции, заменяющей тоже\n",
      "завершение запущенной оригинальной функции, заменяющей тоже\n",
      "завершение запущенной оригинальной функции, заменяющей тоже\n",
      "завершение запущенной оригинальной функции, заменяющей тоже\n"
     ]
    }
   ],
   "source": [
    "my_functions()"
   ]
  },
  {
   "cell_type": "code",
   "execution_count": 239,
   "id": "42bf5639",
   "metadata": {},
   "outputs": [
    {
     "name": "stdout",
     "output_type": "stream",
     "text": [
      "Создание новой функции\n",
      "Создана новая заменяющей функции\n"
     ]
    }
   ],
   "source": [
    "@my_decorator\n",
    "def small_function():\n",
    "    print(\"i'am a small function\")"
   ]
  },
  {
   "cell_type": "code",
   "execution_count": 229,
   "id": "b55e6fa2",
   "metadata": {},
   "outputs": [
    {
     "name": "stdout",
     "output_type": "stream",
     "text": [
      "<function my_decorator.<locals>.replacement_function at 0x7f2ea27ac9d0>\n"
     ]
    }
   ],
   "source": [
    "print(small_function)"
   ]
  },
  {
   "cell_type": "code",
   "execution_count": 231,
   "id": "20abd93e",
   "metadata": {},
   "outputs": [
    {
     "name": "stdout",
     "output_type": "stream",
     "text": [
      "<function my_decorator.<locals>.replacement_function at 0x7f2ea27ac310>\n"
     ]
    }
   ],
   "source": [
    "print(my_functions)"
   ]
  },
  {
   "cell_type": "code",
   "execution_count": 241,
   "id": "78f87bd8",
   "metadata": {},
   "outputs": [
    {
     "name": "stdout",
     "output_type": "stream",
     "text": [
      "выполнение заменяющей функции\n",
      "выполнение заменяющей функции\n",
      "выполнение заменяющей функции\n",
      "выполнение заменяющей функции\n",
      "выполнение заменяющей функции\n",
      "выполнение заменяющей функции\n",
      "выполнение заменяющей функции\n",
      "Старт моей функции\n",
      "завершение запущенной оригинальной функции, заменяющей тоже\n",
      "завершение запущенной оригинальной функции, заменяющей тоже\n",
      "завершение запущенной оригинальной функции, заменяющей тоже\n",
      "завершение запущенной оригинальной функции, заменяющей тоже\n",
      "завершение запущенной оригинальной функции, заменяющей тоже\n",
      "завершение запущенной оригинальной функции, заменяющей тоже\n",
      "завершение запущенной оригинальной функции, заменяющей тоже\n"
     ]
    }
   ],
   "source": [
    "my_functions()"
   ]
  },
  {
   "cell_type": "code",
   "execution_count": 242,
   "id": "ba01400b",
   "metadata": {},
   "outputs": [
    {
     "name": "stdout",
     "output_type": "stream",
     "text": [
      "выполнение заменяющей функции\n",
      "i'am a small function\n",
      "завершение запущенной оригинальной функции, заменяющей тоже\n"
     ]
    }
   ],
   "source": [
    "small_function()"
   ]
  },
  {
   "cell_type": "code",
   "execution_count": null,
   "id": "e7269fdb",
   "metadata": {},
   "outputs": [],
   "source": []
  }
 ],
 "metadata": {
  "kernelspec": {
   "display_name": "Python 3 (ipykernel)",
   "language": "python",
   "name": "python3"
  },
  "language_info": {
   "codemirror_mode": {
    "name": "ipython",
    "version": 3
   },
   "file_extension": ".py",
   "mimetype": "text/x-python",
   "name": "python",
   "nbconvert_exporter": "python",
   "pygments_lexer": "ipython3",
   "version": "3.10.6"
  }
 },
 "nbformat": 4,
 "nbformat_minor": 5
}
