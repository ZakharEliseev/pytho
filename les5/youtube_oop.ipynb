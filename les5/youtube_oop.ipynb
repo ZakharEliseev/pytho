{
 "cells": [
  {
   "cell_type": "code",
   "execution_count": 24,
   "id": "c3322890",
   "metadata": {},
   "outputs": [],
   "source": [
    "#https://yandex.ru/video/preview/3371443558410063672"
   ]
  },
  {
   "cell_type": "code",
   "execution_count": 55,
   "id": "6f2b2a2f",
   "metadata": {},
   "outputs": [],
   "source": [
    "class Car:\n",
    "    PURCHASE_TYPES = (\"LEASE\", \"CASH\")\n",
    "    __sales_list =  None\n",
    "    \n",
    "    \n",
    "    @classmethod\n",
    "    def get_purchase_types(cls):\n",
    "        return cls.PURCHASE_TYPES\n",
    "    \n",
    "    @staticmethod\n",
    "    def get_sales_list():\n",
    "        if Car.__sales_list == None:\n",
    "            Car.__sales_list = []\n",
    "        return Car.__sales_list\n",
    "        \n",
    "    \n",
    "    def __init__(self, maker, model, colour, price, purchase_types):\n",
    "        self.maker = maker\n",
    "        self.model = model\n",
    "        self.colour = colour\n",
    "        self.price = price\n",
    "        self.__secret_cog = 'Tshhhh' # скрытый атрибут\n",
    "        \n",
    "        if (not purchase_types in Car.PURCHASE_TYPES):\n",
    "            raise ValueError(f'{purchase_types} is not a valid purchase type')\n",
    "        else:\n",
    "            self.purchase_types = purchase_types\n",
    "    \n",
    "    def get_price(self):\n",
    "        if hasattr(self, \"_discount\"):\n",
    "            return self.price - (self.price * self._discount)\n",
    "        else:\n",
    "            return self.price\n",
    "    \n",
    "    def set_discount(self, amount):\n",
    "        self._discount = amount"
   ]
  },
  {
   "cell_type": "code",
   "execution_count": 54,
   "id": "edddd808",
   "metadata": {},
   "outputs": [
    {
     "name": "stdout",
     "output_type": "stream",
     "text": [
      "Purchase types:  ('LEASE', 'CASH')\n",
      "CASH\n",
      "LEASE\n"
     ]
    }
   ],
   "source": [
    "print(\"Purchase types: \", Car.get_purchase_types())\n",
    "print(car1.purchase_types)\n",
    "print(car2.purchase_types)\n",
    "car1 = Car(\"BMW\", \"I8\", \"White\", 50000, \"CASH\")\n",
    "car2 = Car(\"Mercedes\", \"C-class\", \"Black\", 28500, \"LEASE\")"
   ]
  },
  {
   "cell_type": "code",
   "execution_count": 29,
   "id": "cd6ac034",
   "metadata": {},
   "outputs": [
    {
     "name": "stdout",
     "output_type": "stream",
     "text": [
      "28500\n",
      "21375.0\n"
     ]
    }
   ],
   "source": [
    "print(car2.get_price())\n",
    "car2.set_discount(0.25)\n",
    "print(car2.get_price())"
   ]
  },
  {
   "cell_type": "code",
   "execution_count": 34,
   "id": "1d37881c",
   "metadata": {},
   "outputs": [
    {
     "name": "stdout",
     "output_type": "stream",
     "text": [
      "Tshhhh\n"
     ]
    }
   ],
   "source": [
    "#print(car2__secret_cog)\n",
    "print(car2._Car__secret_cog) # обход приавтности"
   ]
  },
  {
   "cell_type": "code",
   "execution_count": 35,
   "id": "d387978d",
   "metadata": {},
   "outputs": [],
   "source": [
    "class Boat:\n",
    "    def __init__(self, name):\n",
    "        self.name = name\n",
    "        "
   ]
  },
  {
   "cell_type": "code",
   "execution_count": 36,
   "id": "2294e011",
   "metadata": {},
   "outputs": [],
   "source": [
    "boat1 = Boat(\"Titanik\")"
   ]
  },
  {
   "cell_type": "code",
   "execution_count": 37,
   "id": "58895ebc",
   "metadata": {},
   "outputs": [
    {
     "name": "stdout",
     "output_type": "stream",
     "text": [
      "<class '__main__.Car'>\n",
      "<class '__main__.Boat'>\n"
     ]
    }
   ],
   "source": [
    "print(type(car1))\n",
    "print(type(boat1))"
   ]
  },
  {
   "cell_type": "code",
   "execution_count": 38,
   "id": "12bd9ae6",
   "metadata": {},
   "outputs": [
    {
     "name": "stdout",
     "output_type": "stream",
     "text": [
      "False\n"
     ]
    }
   ],
   "source": [
    "print(type(car2) == type(boat1))"
   ]
  },
  {
   "cell_type": "code",
   "execution_count": 39,
   "id": "fba1ef7d",
   "metadata": {},
   "outputs": [
    {
     "name": "stdout",
     "output_type": "stream",
     "text": [
      "True\n"
     ]
    }
   ],
   "source": [
    "print(type(car2) == type(car1))"
   ]
  },
  {
   "cell_type": "code",
   "execution_count": 40,
   "id": "dc8172a8",
   "metadata": {},
   "outputs": [
    {
     "name": "stdout",
     "output_type": "stream",
     "text": [
      "True\n"
     ]
    }
   ],
   "source": [
    "print(isinstance(car1, Car))"
   ]
  },
  {
   "cell_type": "code",
   "execution_count": 42,
   "id": "c4d015e9",
   "metadata": {},
   "outputs": [
    {
     "name": "stdout",
     "output_type": "stream",
     "text": [
      "True\n"
     ]
    }
   ],
   "source": [
    "print(isinstance(boat1, Boat))"
   ]
  },
  {
   "cell_type": "code",
   "execution_count": 43,
   "id": "63afa31e",
   "metadata": {},
   "outputs": [
    {
     "name": "stdout",
     "output_type": "stream",
     "text": [
      "False\n"
     ]
    }
   ],
   "source": [
    "print(isinstance(boat1, Car))"
   ]
  },
  {
   "cell_type": "code",
   "execution_count": 44,
   "id": "698185cb",
   "metadata": {},
   "outputs": [
    {
     "name": "stdout",
     "output_type": "stream",
     "text": [
      "False\n"
     ]
    }
   ],
   "source": [
    "print(isinstance(car1, Boat))"
   ]
  },
  {
   "cell_type": "code",
   "execution_count": 45,
   "id": "bc14e2ca",
   "metadata": {},
   "outputs": [
    {
     "name": "stdout",
     "output_type": "stream",
     "text": [
      "True\n"
     ]
    }
   ],
   "source": [
    "print(isinstance(car1, object))"
   ]
  },
  {
   "cell_type": "code",
   "execution_count": 46,
   "id": "45d2a445",
   "metadata": {},
   "outputs": [
    {
     "name": "stdout",
     "output_type": "stream",
     "text": [
      "True\n"
     ]
    }
   ],
   "source": [
    "print(isinstance(boat1, object))"
   ]
  },
  {
   "cell_type": "code",
   "execution_count": 56,
   "id": "a358faec",
   "metadata": {},
   "outputs": [
    {
     "name": "stdout",
     "output_type": "stream",
     "text": [
      "[]\n"
     ]
    }
   ],
   "source": [
    "sales_this_month = Car.get_sales_list()\n",
    "print(sales_this_month)"
   ]
  },
  {
   "cell_type": "code",
   "execution_count": 57,
   "id": "f873daa7",
   "metadata": {},
   "outputs": [],
   "source": [
    "sales_this_month.append(car1)"
   ]
  },
  {
   "cell_type": "code",
   "execution_count": 58,
   "id": "2b831100",
   "metadata": {},
   "outputs": [],
   "source": [
    "sales_this_month.append(car2)"
   ]
  },
  {
   "cell_type": "code",
   "execution_count": 59,
   "id": "6995bc2d",
   "metadata": {},
   "outputs": [
    {
     "name": "stdout",
     "output_type": "stream",
     "text": [
      "[<__main__.Car object at 0x7f3a8e53afb0>, <__main__.Car object at 0x7f3a8e5387c0>]\n"
     ]
    }
   ],
   "source": [
    "print(sales_this_month)"
   ]
  },
  {
   "cell_type": "code",
   "execution_count": 75,
   "id": "65fa9f0a",
   "metadata": {},
   "outputs": [],
   "source": [
    "class Vehicle:\n",
    "    def __init__(self, maker, model, colour, price):\n",
    "        self.maker = maker\n",
    "        self.model = model\n",
    "        self.colour = colour\n",
    "        self.price = price\n",
    "\n",
    "class Cars(Vehicle):    \n",
    "    def __init__(self, maker, model, colour, price, seats):\n",
    "        super().__init__(maker, model, colour, price)\n",
    "        self.seats = seats\n",
    "        \n",
    "class Industrial_Vehicle(Vehicle):\n",
    "     def __init__(self, maker, model, colour, price, lifting_weight):\n",
    "        super().__init__(maker, model, colour, price)\n",
    "        self.lifting_weight = lifting_weight\n",
    "        \n",
    "class Forklift(Industrial_Vehicle):    \n",
    "    def __init__(self, maker, model, colour, price, lifting_weight):\n",
    "        super().__init__(maker, model, colour, price, lifting_weight)\n",
    "\n",
    "class Crane(Industrial_Vehicle):    \n",
    "    def __init__(self, maker, model, colour, price, lifting_weight):\n",
    "        super().__init__(maker, model, colour, price, lifting_weight)"
   ]
  },
  {
   "cell_type": "code",
   "execution_count": 76,
   "id": "833bdd7b",
   "metadata": {},
   "outputs": [],
   "source": [
    "car1 = Cars('Opel', 'Mokka', 'Black', 20000, 4)\n",
    "forklift1 = Forklift('Honda', 'fl1', 'Brown', 15000, 5)\n",
    "crane1 = Crane('Catterpillar','cr1', 'Yellow', 65000, 55)"
   ]
  },
  {
   "cell_type": "code",
   "execution_count": 77,
   "id": "5f54ca9f",
   "metadata": {},
   "outputs": [
    {
     "name": "stdout",
     "output_type": "stream",
     "text": [
      "Opel Mokka Black 20000 4\n",
      "Honda fl1 Brown 15000 5\n",
      "Catterpillar cr1 Yellow 65000 55\n"
     ]
    }
   ],
   "source": [
    "print(car1.maker,car1.model,car1.colour,car1.price,car1.seats)\n",
    "print(forklift1.maker,forklift1.model,forklift1.colour,forklift1.price,forklift1.lifting_weight)\n",
    "print(crane1.maker,crane1.model,crane1.colour,crane1.price,crane1.lifting_weight)"
   ]
  },
  {
   "cell_type": "code",
   "execution_count": 115,
   "id": "a6060fa5",
   "metadata": {},
   "outputs": [],
   "source": [
    "from abc import ABC, abstractmethod\n",
    "\n",
    "class Shipping(ABC):\n",
    "    def shipping (self, transport):\n",
    "        pass\n",
    "\n",
    "class Electrical_Appliance:\n",
    "    def __init__(self):\n",
    "        super().__init__()\n",
    "    \n",
    "    @abstractmethod\n",
    "    def electricity_consumption(self):\n",
    "        pass\n",
    "    \n",
    "class Heater(Electrical_Appliance):\n",
    "    def __init__(self, heating):\n",
    "        self.heating = heating\n",
    "        \n",
    "    def shipping(self, transport):\n",
    "        self.transport = transport\n",
    "        return transport\n",
    "        \n",
    "    def electricity_consumption(self):\n",
    "        return 1500 * self.heating\n",
    "        \n",
    "class Cooler(Electrical_Appliance):\n",
    "    def __init__(self, cooling):\n",
    "        self.cooling = cooling\n",
    "        \n",
    "    def electricity_consumption(self):\n",
    "        return 300 * self.cooling\n"
   ]
  },
  {
   "cell_type": "code",
   "execution_count": 116,
   "id": "4cf6ef12",
   "metadata": {},
   "outputs": [],
   "source": [
    "h = Heater(50)\n",
    "c = Cooler(20)"
   ]
  },
  {
   "cell_type": "code",
   "execution_count": 118,
   "id": "20d3b975",
   "metadata": {},
   "outputs": [
    {
     "name": "stdout",
     "output_type": "stream",
     "text": [
      "50 75000 Cargo Ship\n",
      "20 6000\n"
     ]
    }
   ],
   "source": [
    "print(h.heating, h.electricity_consumption(), h.shipping('Cargo Ship'))\n",
    "print(c.cooling, c.electricity_consumption(), c.shipping('Cargo Ship'))"
   ]
  },
  {
   "cell_type": "code",
   "execution_count": 109,
   "id": "9de5507b",
   "metadata": {},
   "outputs": [
    {
     "name": "stdout",
     "output_type": "stream",
     "text": [
      "pretty\n",
      "smart\n",
      "light\n"
     ]
    }
   ],
   "source": [
    "class Parent1:\n",
    "    def __init__(self):\n",
    "        super().__init__()\n",
    "        self.smart = 'smart'\n",
    "        self.hair_color = 'light'\n",
    "\n",
    "class Parent2:\n",
    "    def __init__(self):\n",
    "        super().__init__()\n",
    "        self.pretty = 'pretty'\n",
    "        self.hair_color = 'dark'\n",
    "        \n",
    "class Child(Parent1, Parent2):\n",
    "    def __init__(self):\n",
    "        super().__init__()\n",
    "        \n",
    "    def traits(self):\n",
    "        print(self.pretty)\n",
    "        print(self.smart)\n",
    "        print(self.hair_color)\n",
    "        \n",
    "child = Child()\n",
    "child.traits()"
   ]
  },
  {
   "cell_type": "code",
   "execution_count": 125,
   "id": "3ac2d9ae",
   "metadata": {},
   "outputs": [],
   "source": [
    "class MusicBand:\n",
    "    def __init__(self, title, label, musicians=None):\n",
    "        self.title = title\n",
    "        self.label = label\n",
    "        self.musicians = musicians\n",
    "        self.album = []\n",
    "        \n",
    "    def write_album(self, album):\n",
    "        self.album.append(album)\n",
    "\n",
    "class Musician:\n",
    "    def __init__(self, name, instrument):\n",
    "        self.name = name\n",
    "        self.instrument = instrument\n",
    "    \n",
    "    def __str__(self):\n",
    "        return f'{self.name} {self.instrument}'\n",
    "\n",
    "class Album:\n",
    "    def __init__(self, song, genre):\n",
    "        self.song = song\n",
    "        self.genre = genre"
   ]
  },
  {
   "cell_type": "code",
   "execution_count": 126,
   "id": "95ace2ab",
   "metadata": {},
   "outputs": [],
   "source": [
    "band1 = MusicBand('The Beatles', \"Perlophone\", \"beatles\")\n",
    "band1.write_album('White Album')\n",
    "band1.write_album('Hard Day,s Night')\n",
    "band1.write_album('Help')\n"
   ]
  },
  {
   "cell_type": "code",
   "execution_count": 128,
   "id": "528c4cca",
   "metadata": {},
   "outputs": [
    {
     "name": "stdout",
     "output_type": "stream",
     "text": [
      "The Beatles Perlophone beatles ['White Album', 'Hard Day,s Night', 'Help']\n"
     ]
    }
   ],
   "source": [
    "print(band1.title, band1.label, band1.musicians, band1.album)"
   ]
  }
 ],
 "metadata": {
  "kernelspec": {
   "display_name": "Python 3 (ipykernel)",
   "language": "python",
   "name": "python3"
  },
  "language_info": {
   "codemirror_mode": {
    "name": "ipython",
    "version": 3
   },
   "file_extension": ".py",
   "mimetype": "text/x-python",
   "name": "python",
   "nbconvert_exporter": "python",
   "pygments_lexer": "ipython3",
   "version": "3.10.6"
  }
 },
 "nbformat": 4,
 "nbformat_minor": 5
}
